{
 "cells": [
  {
   "cell_type": "code",
   "execution_count": null,
   "id": "7f9bfee4",
   "metadata": {},
   "outputs": [],
   "source": [
    "import odds_datasets\n",
    "from iforest import BAD_IForest\n",
    "import batch_bald\n",
    "import numpy as np\n",
    "\n",
    "for dataset in odds_datasets.datasets_names:\n",
    "    X, y = odds_datasets.load(dataset)\n",
    "    model = BAD_IForest(contamination=y.mean()).fit(X)\n",
    "    print(f\"\\nDATASET:     {dataset[:10]}\\tX: {X.shape}\\tcontamination: {100*y.mean():.2f}%\")\n",
    "    for batch_size in [10]:\n",
    "        print(f\"\\nBATCH SIZE: {batch_size}\")\n",
    "\n",
    "        # RANDOM\n",
    "        print(\"random          \\t\", end=\"\")\n",
    "        %timeit -n 10 model.decision_function(X)\n",
    "\n",
    "        # INDEPENDENT \n",
    "        for interest_method in [\"bald\", \"margin\", \"anom\"]:\n",
    "            model.interest_method = interest_method # type: ignore\n",
    "            print(f\"independent {interest_method}\\t\", end=\"\")\n",
    "            %timeit -n 10 model.get_queries(X, batch_size, independent=True) \n",
    "\n",
    "        # WORSTCASE\n",
    "        for interest_method in [\"bald\", \"margin\", \"anom\"]:\n",
    "            model.interest_method = interest_method # type: ignore\n",
    "            print(f\"worstcase {interest_method}  \\t\", end=\"\")\n",
    "            %timeit -n 10 model.get_queries(X, batch_size, independent=False)\n",
    "\n",
    "        # BATCHBALD\n",
    "        print(f\"batchbald       \\t\", end=\"\")\n",
    "        %timeit -n 10 batch_bald.get_queries(model=model, X=X, batch_size=batch_size)"
   ]
  }
 ],
 "metadata": {
  "kernelspec": {
   "display_name": "davide",
   "language": "python",
   "name": "python3"
  },
  "language_info": {
   "codemirror_mode": {
    "name": "ipython",
    "version": 3
   },
   "file_extension": ".py",
   "mimetype": "text/x-python",
   "name": "python",
   "nbconvert_exporter": "python",
   "pygments_lexer": "ipython3",
   "version": "3.12.10"
  }
 },
 "nbformat": 4,
 "nbformat_minor": 5
}
