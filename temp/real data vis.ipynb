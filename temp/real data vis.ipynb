{
 "cells": [
  {
   "cell_type": "code",
   "execution_count": null,
   "metadata": {},
   "outputs": [],
   "source": [
    "%env JAX_PLATFORM_NAME=cpu\n",
    "from tqdm.auto import tqdm\n",
    "import jax.numpy as jnp\n",
    "import numpy as np\n",
    "import matplotlib.pyplot as plt\n",
    "import odds_datasets\n",
    "from balif import Balif\n",
    "import pandas as pd\n",
    "import seaborn as sns\n",
    "import warnings\n",
    "warnings.filterwarnings(\"ignore\")\n",
    "import plotly.io as pio\n",
    "pio.templates.default = \"seaborn\"\n",
    "import plotly.express as px"
   ]
  },
  {
   "cell_type": "code",
   "execution_count": null,
   "metadata": {},
   "outputs": [],
   "source": [
    "paths = {\n",
    "    \"Margin\": lambda ds: f\"results/margin_query/{ds}_BALIF.npy\",\n",
    "    #\"MEBALIF\": lambda ds: f\"results/margin_query/{ds}_EBALIF.npy\",\n",
    "    \"Random\": lambda ds: f\"results/random_query/{ds}_BALIF.npy\",\n",
    "    #\"REBALIF\": lambda ds: f\"results/random_query/{ds}_EBALIF.npy\",\n",
    "}"
   ]
  },
  {
   "cell_type": "code",
   "execution_count": null,
   "metadata": {},
   "outputs": [],
   "source": [
    "df = pd.DataFrame()\n",
    "ap = {}\n",
    "for model_name, save_path_fn in paths.items():\n",
    "    ap[model_name] = {}\n",
    "    for i, dataset_name in enumerate((pbar := tqdm((odds_datasets.datasets_names)))):\n",
    "        ap[model_name][dataset_name] = np.load(save_path_fn(dataset_name), allow_pickle=True).T"
   ]
  },
  {
   "cell_type": "code",
   "execution_count": null,
   "metadata": {},
   "outputs": [],
   "source": [
    "datasets = {\n",
    "    dataset_name: odds_datasets.load(dataset_name)\n",
    "    for dataset_name in odds_datasets.datasets_names\n",
    "}\n",
    "datasets = {\n",
    "    name: {\"contamination\": y.mean(), \"points\": X.shape[0], \"features\": X.shape[1]}\n",
    "    for name, (X, y) in datasets.items()\n",
    "}\n",
    "#f\"{100*y.mean():.1f}%\"\n",
    "contamination = [(prop[\"contamination\"], name) for name, prop in datasets.items()]\n",
    "\n",
    "dataset_names = [(name, f\"{name}\") for c, name in sorted(contamination)]\n",
    "dataset_names"
   ]
  },
  {
   "cell_type": "code",
   "execution_count": null,
   "metadata": {},
   "outputs": [],
   "source": [
    "df = pd.DataFrame()\n",
    "for i, (dataset_name, label) in enumerate((pbar := tqdm(dataset_names))):\n",
    "    for model_name, save_path_fn in paths.items():\n",
    "        ap = np.load(save_path_fn(dataset_name), allow_pickle=True).T\n",
    "        for queries, ap_q in (\n",
    "            [(\"0\", ap[0])]\n",
    "            + [(f\"{i}%\", ap[1 + int(i * len(ap) / 10)]) for i in range(1, 10)]\n",
    "            + [(\"10%\", ap[-1])]\n",
    "        ):\n",
    "            df = df._append(\n",
    "                {\n",
    "                    \"dataset\": label,\n",
    "                    \"strategy\": model_name,\n",
    "                    \"ap_mean\": ap_q.mean(),\n",
    "                    \"ap_std\": ap_q.std(),\n",
    "                    \"labels\": queries,\n",
    "                },\n",
    "                ignore_index=True,\n",
    "            )"
   ]
  },
  {
   "cell_type": "code",
   "execution_count": null,
   "metadata": {},
   "outputs": [],
   "source": [
    "fig = px.line_polar(\n",
    "    df,\n",
    "    r=\"ap_mean\",\n",
    "    theta=\"dataset\",\n",
    "    color=\"strategy\",\n",
    "    # line_dash=\"labels\",\n",
    "    # line_dash_sequence=[\"dot\", \"dashdot\", \"dash\", \"solid\"],\n",
    "    title=f\"AP evolution\",\n",
    "    height=800,\n",
    "    width=800,\n",
    "    line_close=True,\n",
    "    markers=True,\n",
    "    range_r=[0, 1.01],\n",
    "    animation_frame=\"labels\"\n",
    ")\n",
    "fig[\"layout\"].pop(\"updatemenus\") # optional, drop animation buttons\n",
    "fig.write_html(\"file.html\")\n",
    "fig.show()"
   ]
  },
  {
   "cell_type": "code",
   "execution_count": null,
   "metadata": {},
   "outputs": [],
   "source": []
  },
  {
   "cell_type": "code",
   "execution_count": null,
   "metadata": {},
   "outputs": [],
   "source": []
  },
  {
   "cell_type": "code",
   "execution_count": null,
   "metadata": {},
   "outputs": [],
   "source": [
    "plt.figure(figsize=(20, 30))\n",
    "plt.subplot(6,3,len(odds_datasets.datasets_names)+1)\n",
    "for strat, configs in model_configs.items():\n",
    "    for label in configs.keys():\n",
    "        plt.plot(0, 0, label=f\"{label} {strat}\")\n",
    "plt.title(\"\")\n",
    "plt.legend(loc=\"center\")\n",
    "plt.axis(\"off\")\n",
    "\n",
    "for i, dataset_name in enumerate((pbar := tqdm((odds_datasets.datasets_names)))):\n",
    "    plt.subplot(6,3,i+1)\n",
    "    for strat, configs in model_configs.items():\n",
    "        for label in configs.keys():\n",
    "            save_path = f\"results/{strat}/{dataset_name}_{label}.npy\"\n",
    "            ap = np.load(save_path, allow_pickle=True)\n",
    "            ap_mean, ap_std = ap.mean(axis=0), ap.std(axis=0)\n",
    "            plt.semilogx(1 + jnp.arange(len(ap_mean)), ap_mean)\n",
    "            plt.fill_between(\n",
    "                1 + jnp.arange(len(ap_mean)),\n",
    "                jnp.maximum(0, ap_mean - ap_std),\n",
    "                jnp.minimum(1, ap_mean + ap_std),\n",
    "                alpha=0.3,\n",
    "            )\n",
    "    plt.title(dataset_name)\n",
    "    data, labels = odds_datasets.load(dataset_name)\n",
    "    plt.xlabel(f\"Queries (10% ={1+len(data)//10})\")\n",
    "    if i % 3 == 0:\n",
    "        plt.ylabel(\"Avg. Precision\")\n",
    "    plt.ylim(-0.05, 1.05)\n",
    "    plt.xlim(1, 1 + data.shape[0] / 10)\n",
    "    plt.xticks([1, 1 + data.shape[0] / 100, 1 + data.shape[0] / 10], labels=[\"0%\", \"1%\", \"10%\"])\n",
    "    plt.yticks([0.0, 0.2, 0.4, 0.6, 0.8, 1.0])\n",
    "    plt.grid()\n",
    "plt.tight_layout()\n",
    "plt.savefig(f\"figures/ap_evolution/ap_all.pdf\", bbox_inches=\"tight\")\n",
    "plt.show()"
   ]
  },
  {
   "cell_type": "code",
   "execution_count": null,
   "metadata": {},
   "outputs": [],
   "source": []
  }
 ],
 "metadata": {
  "kernelspec": {
   "display_name": "base",
   "language": "python",
   "name": "python3"
  },
  "language_info": {
   "codemirror_mode": {
    "name": "ipython",
    "version": 3
   },
   "file_extension": ".py",
   "mimetype": "text/x-python",
   "name": "python",
   "nbconvert_exporter": "python",
   "pygments_lexer": "ipython3",
   "version": "3.12.2"
  }
 },
 "nbformat": 4,
 "nbformat_minor": 2
}
