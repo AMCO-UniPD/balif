{
 "cells": [
  {
   "cell_type": "code",
   "execution_count": null,
   "metadata": {},
   "outputs": [],
   "source": [
    "import os\n",
    "#%env JAX_PLATFORMS=cpu\n",
    "%env CUDA_VISIBLE_DEVICES=0\n",
    "%env XLA_PYTHON_CLIENT_PREALLOCATE=false\n",
    "os.chdir('..')\n",
    "from tqdm.auto import tqdm\n",
    "import jax\n",
    "import jax.numpy as jnp\n",
    "import jax.random as jr\n",
    "import equinox as eqx\n",
    "import numpy as np\n",
    "import comet_ml\n",
    "import matplotlib.pyplot as plt\n",
    "from sklearn.metrics import average_precision_score as avg_precision\n",
    "\n",
    "import odds_datasets\n",
    "from balif import Balif"
   ]
  },
  {
   "cell_type": "code",
   "execution_count": null,
   "metadata": {},
   "outputs": [],
   "source": [
    "model_configs: list[dict] = []\n",
    "for query_strategy in [\"margin\", \"random\"]:\n",
    "    for p_normal_idx in [\"uniform\", \"range\"]:\n",
    "        for hyperplane_components in [1, -1]:\n",
    "            model_configs.append(\n",
    "                dict(\n",
    "                    n_estimators=128,\n",
    "                    max_samples=256,\n",
    "                    bootstrap=True,\n",
    "                    standardize=False,\n",
    "                    hyperplane_components=hyperplane_components,\n",
    "                    p_normal_idx=p_normal_idx,\n",
    "                    p_normal_value=\"uniform\",\n",
    "                    p_intercept=\"uniform\",\n",
    "                    prior_sample_size=0.1,\n",
    "                    score_reduction=\"mean\",\n",
    "                    query_strategy=query_strategy,\n",
    "                )\n",
    "            )"
   ]
  },
  {
   "cell_type": "code",
   "execution_count": null,
   "metadata": {},
   "outputs": [],
   "source": [
    "@eqx.filter_jit\n",
    "def run_fn(model_config, data, labels, key):\n",
    "    def scan_body(carry, key):\n",
    "        key_score, key_query, key_update = jr.split(key, 3)\n",
    "        model, queriable = carry\n",
    "\n",
    "        scores = model.score(data, key=key_score)\n",
    "\n",
    "        interests = model.interest(data, key=key_query)\n",
    "        query_idx = jnp.where(queriable, interests, interests.min()).argmax()\n",
    "        queriable = queriable.at[query_idx].set(False)\n",
    "        point, is_anomaly = data[query_idx], labels[query_idx]\n",
    "\n",
    "        model = model.register(point, is_anomaly=is_anomaly, key=key_update)\n",
    "        return (model, queriable), scores\n",
    "\n",
    "    samples, dim = data.shape\n",
    "    iterations = 1 + samples//10\n",
    "    rng_fit, rng_steps = jr.split(key)\n",
    "    model = Balif(**model_config)\n",
    "    model = model.fit(data, key=rng_fit)\n",
    "    \n",
    "    queriable = jnp.ones(samples, dtype=bool)\n",
    "    _, scores = jax.lax.scan(\n",
    "        scan_body, (model, queriable), jr.split(rng_steps, iterations)\n",
    "    )\n",
    "    return scores"
   ]
  },
  {
   "cell_type": "code",
   "execution_count": null,
   "metadata": {},
   "outputs": [],
   "source": [
    "comet_ml.init()\n",
    "for model_config in tqdm(model_configs, desc=\"models\"):\n",
    "    for seed in range(32):\n",
    "        experiment = comet_ml.OfflineExperiment(project_name=\"balif\", offline_directory=\"comet\")\n",
    "        experiment.log_parameters({\"seed\":seed,**model_config})\n",
    "\n",
    "        for dataset_name in  tqdm(odds_datasets.datasets_names, desc=\"datasets\"):\n",
    "            data, labels = odds_datasets.load(dataset_name)\n",
    "\n",
    "            with experiment.context_manager(dataset_name):\n",
    "                sim_results = run_fn(model_config, data, labels, jr.key(seed))\n",
    "\n",
    "                for step, scores in enumerate(sim_results):\n",
    "                    ap = avg_precision(labels, scores)\n",
    "                    experiment.log_metric(\"average_precision\", ap, step)\n",
    "        experiment.end()\n",
    "!comet upload comet/*.zip"
   ]
  },
  {
   "cell_type": "code",
   "execution_count": null,
   "metadata": {},
   "outputs": [],
   "source": [
    "!comet upload comet/*.zip"
   ]
  },
  {
   "cell_type": "code",
   "execution_count": null,
   "metadata": {},
   "outputs": [],
   "source": []
  }
 ],
 "metadata": {
  "kernelspec": {
   "display_name": "base",
   "language": "python",
   "name": "python3"
  },
  "language_info": {
   "codemirror_mode": {
    "name": "ipython",
    "version": 3
   },
   "file_extension": ".py",
   "mimetype": "text/x-python",
   "name": "python",
   "nbconvert_exporter": "python",
   "pygments_lexer": "ipython3",
   "version": "3.12.2"
  }
 },
 "nbformat": 4,
 "nbformat_minor": 2
}
