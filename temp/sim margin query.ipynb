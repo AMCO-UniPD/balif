{
 "cells": [
  {
   "cell_type": "code",
   "execution_count": null,
   "metadata": {},
   "outputs": [],
   "source": [
    "%env CUDA_VISIBLE_DEVICES=2\n",
    "%env XLA_PYTHON_CLIENT_PREALLOCATE=false\n",
    "from tqdm.auto import tqdm\n",
    "import jax\n",
    "import jax.numpy as jnp\n",
    "import numpy as np\n",
    "import odds_datasets\n",
    "\n",
    "from balif import Balif\n",
    "from sklearn.metrics import average_precision_score"
   ]
  },
  {
   "cell_type": "code",
   "execution_count": null,
   "metadata": {},
   "outputs": [],
   "source": [
    "model_configs = {\n",
    "    \"BALIF\": {\"model_cls\":Balif, \"hyperplane_components\": 1, \"path_score\": False},\n",
    "    \"EBALIF\": {\"model_cls\":Balif, \"hyperplane_components\": None, \"path_score\": False},\n",
    "    # \"BALIF (Path)\": {\"model_cls\":Balif, \"hyperplane_components\": 1, \"path_score\": True},\n",
    "    # \"EBALIF (Path)\": {\"model_cls\":Balif, \"hyperplane_components\": None, \"path_score\": True},\n",
    "}\n",
    "\n",
    "seed = 42\n",
    "n_sims = 128"
   ]
  },
  {
   "cell_type": "code",
   "execution_count": null,
   "metadata": {},
   "outputs": [],
   "source": [
    "def get_multi_run(model_cls, **fit_kwargs):\n",
    "    def run_fn(rng, train_data, train_labels, test_data):\n",
    "        def scan_body(carry, key):\n",
    "            model, queriable = carry\n",
    "            scores = model.score_samples(test_data)\n",
    "            interests = model.interest_for(train_data)\n",
    "            queries_idx = jnp.where(queriable, interests, interests.min()).argmax()\n",
    "            model = model.register(train_data[queries_idx], train_labels[queries_idx])\n",
    "            return (model, queriable), scores\n",
    "\n",
    "        iterations = 1 + train_data.shape[0] // (10)\n",
    "        rng_init, rng_steps = jax.random.split(rng)\n",
    "        rng_steps = jax.random.split(rng_steps, iterations)\n",
    "\n",
    "        model = model_cls.fit(rng_init, train_data, **fit_kwargs)\n",
    "        queriable = jnp.ones(train_data.shape[0], dtype=bool)\n",
    "        _, scores = jax.lax.scan(scan_body, (model, queriable), rng_steps)\n",
    "        return scores\n",
    "\n",
    "    return jax.jit(jax.vmap(run_fn, in_axes=(0, None, None, None)))\n",
    "\n",
    "\n",
    "rng_keys = jax.random.split(jax.random.PRNGKey(seed), n_sims)\n",
    "\n",
    "for label, model_config in tqdm(model_configs.items(), desc=\"models\"):\n",
    "    run_fn = get_multi_run(**model_config)\n",
    "\n",
    "    for dataset_name in (pbar := tqdm(odds_datasets.datasets_names)):\n",
    "        data, labels = odds_datasets.load(dataset_name)\n",
    "        pbar.set_description(f\"{dataset_name}, shape: {data.shape}\")\n",
    "        scores = run_fn(rng_keys, data, labels, data)\n",
    "        ap = np.array(\n",
    "            [[average_precision_score(labels, s) for s in run_scores] \n",
    "            for run_scores in scores]\n",
    "        )\n",
    "        save_path = f\"results/margin_query/{dataset_name}_{label}.npy\"\n",
    "        np.save(save_path, ap, allow_pickle=True)"
   ]
  },
  {
   "cell_type": "code",
   "execution_count": null,
   "metadata": {},
   "outputs": [],
   "source": [
    "import matplotlib.pyplot as plt\n",
    "\n",
    "plt.figure(figsize=(20, 30))\n",
    "for i, dataset_name in enumerate((pbar := tqdm(sorted(odds_datasets.datasets_names)))):\n",
    "    plt.subplot(6,3,i+1)\n",
    "    for j, label in enumerate(model_configs.keys()):\n",
    "        save_path = f\"results/margin_query/{dataset_name}_{label}.npy\"\n",
    "        ap = np.load(save_path, allow_pickle=True)\n",
    "        ap_mean, ap_std = ap.mean(axis=0), ap.std(axis=0)\n",
    "        plt.semilogx(1 + jnp.arange(len(ap_mean)), ap_mean)\n",
    "        plt.fill_between(\n",
    "            1 + jnp.arange(len(ap_mean)),\n",
    "            jnp.maximum(0, ap_mean - ap_std),\n",
    "            jnp.minimum(1, ap_mean + ap_std),\n",
    "            alpha=0.3,\n",
    "        )\n",
    "    plt.title(dataset_name)\n",
    "    data, labels = odds_datasets.load(dataset_name)\n",
    "    plt.xlabel(f\"Queries (10% ={1+len(data)//10})\")\n",
    "    if i % 3 == 0:\n",
    "        plt.ylabel(\"Avg. Precision\")\n",
    "    plt.ylim(-0.05, 1.05)\n",
    "    plt.xlim(1, 1 + data.shape[0] / 10)\n",
    "    plt.xticks([1, 1 + data.shape[0] / 100, 1 + data.shape[0] / 10], labels=[\"0%\", \"1%\", \"10%\"])\n",
    "    plt.yticks([0.0, 0.2, 0.4, 0.6, 0.8, 1.0])\n",
    "    plt.grid()\n",
    "\n",
    "plt.subplot(6,3,len(odds_datasets.datasets_names)+1)\n",
    "for label in model_configs.keys():\n",
    "    plt.plot(0, 0, label=label)\n",
    "plt.title(\"\")\n",
    "plt.legend(loc=\"center\")\n",
    "plt.axis(\"off\")\n",
    "plt.tight_layout()\n",
    "plt.savefig(f\"figures/ap_evolution/ap_all_margin_query.pdf\", bbox_inches=\"tight\")\n",
    "plt.show()"
   ]
  }
 ],
 "metadata": {
  "kernelspec": {
   "display_name": "base",
   "language": "python",
   "name": "python3"
  },
  "language_info": {
   "codemirror_mode": {
    "name": "ipython",
    "version": 3
   },
   "file_extension": ".py",
   "mimetype": "text/x-python",
   "name": "python",
   "nbconvert_exporter": "python",
   "pygments_lexer": "ipython3",
   "version": "3.12.2"
  }
 },
 "nbformat": 4,
 "nbformat_minor": 2
}
