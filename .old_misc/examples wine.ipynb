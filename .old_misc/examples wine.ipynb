{
 "cells": [
  {
   "cell_type": "code",
   "execution_count": null,
   "id": "26de501d-1d6d-42d7-b8de-0cc54135f128",
   "metadata": {
    "executionInfo": {
     "elapsed": 7,
     "status": "ok",
     "timestamp": 1668955843206,
     "user": {
      "displayName": "Davide Sartor",
      "userId": "09194974830566603536"
     },
     "user_tz": -60
    },
    "id": "eeacb82b-d27a-45e3-8edd-70ca87dff34c"
   },
   "outputs": [],
   "source": [
    "import warnings\n",
    "\n",
    "import matplotlib.pyplot as plt\n",
    "import numpy as np\n",
    "from tqdm.notebook import tqdm\n",
    "\n",
    "warnings.filterwarnings(\"ignore\")\n",
    "#plt.style.use('dark_background')"
   ]
  },
  {
   "cell_type": "code",
   "execution_count": null,
   "id": "f36a0522-1af1-4393-a408-8d16d4453258",
   "metadata": {
    "executionInfo": {
     "elapsed": 712,
     "status": "ok",
     "timestamp": 1668955843912,
     "user": {
      "displayName": "Davide Sartor",
      "userId": "09194974830566603536"
     },
     "user_tz": -60
    },
    "id": "5a1e1844-bbdc-44b0-9f43-2307c6ff67b4"
   },
   "outputs": [],
   "source": [
    "import utils.datasets\n",
    "from utils.active_forests import ALIF, ALEIF, BALEIF, BALIF, RandomForest\n",
    "from utils import *"
   ]
  },
  {
   "cell_type": "code",
   "execution_count": null,
   "id": "1c53d468-26d3-4e6b-a4cd-c3ff2485d21d",
   "metadata": {},
   "outputs": [],
   "source": [
    "from sklearn.manifold import TSNE"
   ]
  },
  {
   "cell_type": "code",
   "execution_count": null,
   "id": "c76afd58-b4d2-49e8-bd0b-702266916474",
   "metadata": {},
   "outputs": [],
   "source": [
    "def plot_belief_distr(model,data,labels):\n",
    "    plt.figure(figsize=(6,4),dpi=120)\n",
    "    predictions = np.array(model.predict(data))\n",
    "    distributions = np.array(model.predict(data,getdistr=True))\n",
    "\n",
    "    x = np.linspace(0,1,1000)\n",
    "    plt.title(\"prediction distributions\")\n",
    "\n",
    "    for distr, pred, label in zip(distributions,predictions, labels):\n",
    "        c, alpha = (\"midnightblue\", 0.2) if label == 0 else (\"firebrick\", 0.5)\n",
    "\n",
    "        plt.plot(x,distr(x), c=c, alpha=alpha)\n",
    "        plt.plot(pred,distr(pred), \"o\", c=c)\n",
    "        \n",
    "    plt.plot([],[],c=\"midnightblue\", alpha=0.2, label=\"inliers\")\n",
    "    plt.plot([],[],c=\"firebrick\", alpha=0.5, label=\"anomalies\")\n",
    "    plt.legend()\n",
    "    plt.yticks([])  \n",
    "    plt.xlim(0,1)\n",
    "    plt.ylim(bottom=0.1)"
   ]
  },
  {
   "cell_type": "code",
   "execution_count": null,
   "id": "6a761038-7e45-48aa-bde5-ca63f9cb4127",
   "metadata": {},
   "outputs": [],
   "source": [
    "def plt_scatter_predictions_tsne(model, dataset_name, adaptive_range=True):\n",
    "    plt.figure(figsize=(8,8),dpi=80)\n",
    "    data, labels = datasets.load_dataset(\"wine\")    \n",
    "    embedded = TSNE(perplexity=5, early_exaggeration=5, random_state=0).fit_transform(data)\n",
    "    \n",
    "    heatmap = labels if model == \"target\" else model.predict(data)\n",
    "    if adaptive_range: vmin, vmax = np.min(heatmap),np.max(heatmap)\n",
    "    else: vmin, vmax = 0,1\n",
    "    \n",
    "    plt.scatter(embedded[:,0][labels==0], embedded[:,1][labels==0], marker=\"o\", edgecolors='w', s=2*100, c=heatmap[labels==0], vmin=vmin, vmax=vmax, cmap=\"coolwarm\")\n",
    "    plt.scatter(embedded[:,0][labels==1], embedded[:,1][labels==1], marker=\"X\",edgecolors='w', s=2*150, c=heatmap[labels==1], vmin=vmin, vmax=vmax, cmap=\"coolwarm\")\n",
    "    plt.xticks([])\n",
    "    plt.yticks([])    "
   ]
  },
  {
   "cell_type": "code",
   "execution_count": null,
   "id": "f9529677-80ed-4a4a-904c-d3fced57c8c3",
   "metadata": {
    "tags": []
   },
   "outputs": [],
   "source": [
    "data, labels = datasets.load_dataset(\"wine\")\n",
    "model = BALEIF(n_estimators=100, query_strategy=\"margin\", ensamble_prediction=\"naive\")\n",
    "model.fit(data)\n",
    "#path=\"wine\"\n",
    "plt_scatter_predictions_tsne(\"target\",\"wine\")\n",
    "#plt.savefig(f\"images/example_st/{path}_target\", edgecolor=\"auto\")"
   ]
  },
  {
   "cell_type": "code",
   "execution_count": null,
   "id": "2175ccc3-a481-4b01-85bf-8ba24b85fb03",
   "metadata": {
    "tags": []
   },
   "outputs": [],
   "source": [
    "np.random.seed(42)\n",
    "X_train, X_test, y_train, y_test = utils.train_test_split(\n",
    "    data, labels, test_size=0.5, stratify=labels\n",
    ")\n",
    "queried = np.zeros_like(y_train)\n",
    "points = []\n",
    "model.fit(X_train)\n",
    "\n",
    "#plt_scatter_predictions_tsne(model,\"wine\")\n",
    "#plt.savefig(f\"images/example_st/{path}_iteration{0}\", edgecolor=\"auto\")\n",
    "plot_belief_distr(model,data,labels)\n",
    "#plt.savefig(f\"images/example_st/{path}_distr_iteration{0}\", edgecolor=\"auto\")"
   ]
  },
  {
   "cell_type": "code",
   "execution_count": null,
   "id": "6fb063b8",
   "metadata": {},
   "outputs": [],
   "source": [
    "for i in tqdm(range(10)):\n",
    "    eligible = np.arange(len(X_train))\n",
    "    interest = model.interest_on_info_for(X_train[eligible])\n",
    "    selected = eligible[np.argmax(interest)]\n",
    "\n",
    "    model.update(X_train[selected], y_train[selected])\n",
    "    points.append((*X_train[selected], y_train[selected]))\n",
    "    X_train = X_train[np.arange(len(X_train)) != selected]\n",
    "    y_train = y_train[np.arange(len(y_train)) != selected]\n",
    "\n",
    "    #plt_scatter_predictions_tsne(model,\"wine\")\n",
    "    plot_belief_distr(model,data,labels)"
   ]
  }
 ],
 "metadata": {
  "kernelspec": {
   "display_name": "Python 3",
   "language": "python",
   "name": "python3"
  },
  "language_info": {
   "codemirror_mode": {
    "name": "ipython",
    "version": 3
   },
   "file_extension": ".py",
   "mimetype": "text/x-python",
   "name": "python",
   "nbconvert_exporter": "python",
   "pygments_lexer": "ipython3",
   "version": "3.9.13"
  }
 },
 "nbformat": 4,
 "nbformat_minor": 5
}
