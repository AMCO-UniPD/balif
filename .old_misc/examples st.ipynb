{
 "cells": [
  {
   "cell_type": "code",
   "execution_count": null,
   "id": "26de501d-1d6d-42d7-b8de-0cc54135f128",
   "metadata": {
    "executionInfo": {
     "elapsed": 7,
     "status": "ok",
     "timestamp": 1668955843206,
     "user": {
      "displayName": "Davide Sartor",
      "userId": "09194974830566603536"
     },
     "user_tz": -60
    },
    "id": "eeacb82b-d27a-45e3-8edd-70ca87dff34c"
   },
   "outputs": [],
   "source": [
    "import warnings\n",
    "import matplotlib.pyplot as plt\n",
    "import numpy as np\n",
    "from tqdm.notebook import tqdm\n",
    "\n",
    "warnings.filterwarnings(\"ignore\")\n",
    "#plt.style.use('dark_background')"
   ]
  },
  {
   "cell_type": "code",
   "execution_count": null,
   "id": "f36a0522-1af1-4393-a408-8d16d4453258",
   "metadata": {
    "executionInfo": {
     "elapsed": 712,
     "status": "ok",
     "timestamp": 1668955843912,
     "user": {
      "displayName": "Davide Sartor",
      "userId": "09194974830566603536"
     },
     "user_tz": -60
    },
    "id": "5a1e1844-bbdc-44b0-9f43-2307c6ff67b4"
   },
   "outputs": [],
   "source": [
    "from utils import datasets\n",
    "from utils.active_forests import ALIF, ALEIF, BALEIF, BALIF, RandomForest\n",
    "from utils.utils import *"
   ]
  },
  {
   "cell_type": "code",
   "execution_count": null,
   "id": "1c53d468-26d3-4e6b-a4cd-c3ff2485d21d",
   "metadata": {},
   "outputs": [],
   "source": [
    "import imageio\n",
    "import snakeviz\n",
    "from sklearn.manifold import TSNE\n",
    "%load_ext snakeviz"
   ]
  },
  {
   "cell_type": "code",
   "execution_count": null,
   "id": "2175ccc3-a481-4b01-85bf-8ba24b85fb03",
   "metadata": {
    "tags": []
   },
   "outputs": [],
   "source": [
    "def run_sq_example(resolution=50, performance_logs=None, runid=0, size_query=0, dt=5):\n",
    "    np.random.seed(42)\n",
    "    performance_logs = performance_logs or {}\n",
    "    X_train, X_test, y_train, y_test = train_test_split(\n",
    "        data, labels, test_size=0.5, stratify=labels\n",
    "    )\n",
    "    queried = np.zeros_like(y_train)\n",
    "    points = []\n",
    "    model.fit(X_train, seed=42)\n",
    "    prediction = model.predict(X_test) \n",
    "    performance_logs[f\"run n:{runid}\"] = [(roc_auc_score(y_test,prediction),average_precision_score(y_test,prediction))]\n",
    "\n",
    "    plt.figure(figsize=(4,4),dpi=80)\n",
    "    plt_scatter_predictions(model, adaptive_range=False, resolution=resolution)\n",
    "    plt.savefig(f\"images/example_st/{path}/{path}_iteration{0}\", edgecolor=\"auto\", bbox_inches='tight')\n",
    "\n",
    "    for i in tqdm(range(30)):\n",
    "        if not size_query or len(X_train)<size_query: eligible = np.arange(len(X_train))\n",
    "        else: eligible = np.random.choice(np.arange(size_query),size_query)\n",
    "            \n",
    "        interest = model.interest_on_info_for(X_train[eligible])\n",
    "        selected = eligible[np.argmax(interest)]\n",
    "\n",
    "        model.update(X_train[selected], y_train[selected])\n",
    "        points.append((*X_train[selected], y_train[selected]))\n",
    "        X_train = X_train[np.arange(len(X_train)) != selected]\n",
    "        y_train = y_train[np.arange(len(y_train)) != selected]\n",
    "        \n",
    "        prediction = model.predict(X_test)\n",
    "        performance_logs[f\"run n:{runid}\"].append((roc_auc_score(y_test,prediction),average_precision_score(y_test,prediction)))        \n",
    "        \n",
    "        plt.figure(figsize=(4,4),dpi=80)\n",
    "        plt_scatter_predictions(model, np.array(points), adaptive_range=False, resolution=resolution)\n",
    "        plt.savefig(f\"images/example_st/{path}/{path}_iteration{i+1}\", edgecolor=\"auto\", bbox_inches='tight')\n",
    "        if i%dt==0: \n",
    "            plt.show()\n",
    "            plt.figure(figsize=(4,4),dpi=80)\n",
    "    \n",
    "    return performance_logs"
   ]
  },
  {
   "cell_type": "code",
   "execution_count": null,
   "id": "39ac79cb-508f-458b-8eb6-74935573aa06",
   "metadata": {},
   "outputs": [],
   "source": [
    "def plt_scatter_predictions(model, points=None, adaptive_range=False, resolution=50):\n",
    "    grid = np.linspace(-0.9,0.9,resolution).astype(np.float64)\n",
    "    heatmap = np.array([[model.predict(np.array([(x,y) for x in grid])) for y in grid]])[0]\n",
    "    #x,y = np.meshgrid(grid,grid)\n",
    "    #plt.contour(x,y,heatmap,levels=[0.30,0.40,0.50,0.60,0.70])\n",
    "    \n",
    "    if adaptive_range:\n",
    "        plt.imshow(heatmap,extent=(-0.9,0.9,-0.9,0.9), origin = \"lower\", cmap=\"coolwarm\") \n",
    "        plt.colorbar()\n",
    "    else:\n",
    "        plt.imshow(heatmap,extent=(-0.9,0.9,-0.9,0.9), vmin=0.25, vmax=0.75, origin = \"lower\", cmap=\"coolwarm\") \n",
    "    \n",
    "    if points is not None:\n",
    "        x,y,l = points[:,0], points[:,1], points[:,2]\n",
    "        plt.scatter(x[l==1],y[l==1], s=20, facecolors='firebrick', edgecolors='w')\n",
    "        plt.scatter(x[l==0],y[l==0], s=20, facecolors='midnightblue', edgecolors='w')\n",
    "    plt.xticks([])\n",
    "    plt.yticks([])"
   ]
  },
  {
   "cell_type": "code",
   "execution_count": null,
   "id": "f533daf5-32c4-4f37-af00-f3b75578b6dd",
   "metadata": {},
   "outputs": [],
   "source": [
    "def plt_scatter_predictions_tsne(model, k=10, adaptive_range=True):\n",
    "    plt.figure(figsize=(8,8),dpi=80)\n",
    "    #data, labels = datasets.load_dataset(k=k)    \n",
    "    embedded = data\n",
    "    \n",
    "    heatmap = labels if model == \"target\" else model.predict(data)\n",
    "    if adaptive_range: vmin, vmax = np.min(heatmap),np.max(heatmap)\n",
    "    else: vmin, vmax = 0,1\n",
    "    \n",
    "    plt.scatter(embedded[:,0][labels==0], embedded[:,1][labels==0], marker=\"o\", edgecolors='w', s=2*100, c=heatmap[labels==0], vmin=vmin, vmax=vmax, cmap=\"coolwarm\")\n",
    "    plt.scatter(embedded[:,0][labels==1], embedded[:,1][labels==1], marker=\"X\",edgecolors='w', s=2*150, c=heatmap[labels==1], vmin=vmin, vmax=vmax, cmap=\"coolwarm\")\n",
    "    plt.xlim(-0.9,0.9)\n",
    "    plt.ylim(-0.9,0.9)\n",
    "    plt.xticks([])\n",
    "    plt.yticks([]) "
   ]
  },
  {
   "cell_type": "code",
   "execution_count": null,
   "id": "38590024-e953-4f51-919b-2ffa8bcecdd6",
   "metadata": {},
   "outputs": [],
   "source": [
    "data, labels = datasets.load_dataset(k=1)\n",
    "plt_scatter_predictions_tsne(\"target\",k=1)\n",
    "performance_logs = []\n",
    "resolution = 100"
   ]
  },
  {
   "cell_type": "code",
   "execution_count": null,
   "id": "cc5b9244-b741-47b2-9bb3-33895d4736ac",
   "metadata": {
    "tags": []
   },
   "outputs": [],
   "source": [
    "model = BALIF(n_estimators=100, max_samples=512, query_strategy=\"margin\", ensamble_prediction=\"naive\")\n",
    "path=\"sparse\"\n",
    "performance_logs.append((path,run_sq_example(resolution=resolution, dt=1)))"
   ]
  },
  {
   "cell_type": "code",
   "execution_count": null,
   "id": "d3c58f35-fdf0-40b7-9400-21b086b28a05",
   "metadata": {
    "tags": []
   },
   "outputs": [],
   "source": [
    "model = BALEIF(n_estimators=100, max_samples=512, query_strategy=\"margin\", ensamble_prediction=\"naive\")\n",
    "path=\"sparse_baleif\"\n",
    "performance_logs.append((path,run_sq_example(resolution=resolution, dt=1)))"
   ]
  },
  {
   "cell_type": "code",
   "execution_count": null,
   "id": "90e09451-a2b6-44d0-ad0b-94473a3a4b2c",
   "metadata": {},
   "outputs": [],
   "source": [
    "data, labels = datasets.load_dataset(k=10)\n",
    "plt_scatter_predictions_tsne(\"target\",k=5)\n",
    "performance_logs = []"
   ]
  },
  {
   "cell_type": "code",
   "execution_count": null,
   "id": "f9529677-80ed-4a4a-904c-d3fced57c8c3",
   "metadata": {
    "tags": []
   },
   "outputs": [],
   "source": [
    "model = BALIF(n_estimators=100, max_samples=512, query_strategy=\"margin\", ensamble_prediction=\"naive\")\n",
    "path=\"anomalous\"\n",
    "performance_logs.append((path,run_sq_example(resolution=resolution)))"
   ]
  },
  {
   "cell_type": "code",
   "execution_count": null,
   "id": "646a8491-af5c-4178-bf6c-3f8b9b589f85",
   "metadata": {
    "tags": []
   },
   "outputs": [],
   "source": [
    "model = BALEIF(n_estimators=100, max_samples=512, query_strategy=\"margin\", ensamble_prediction=\"naive\")\n",
    "path=\"margin\"\n",
    "performance_logs.append((path,run_sq_example(resolution=resolution)))"
   ]
  }
 ],
 "metadata": {
  "kernelspec": {
   "display_name": "Python 3",
   "language": "python",
   "name": "python3"
  },
  "language_info": {
   "codemirror_mode": {
    "name": "ipython",
    "version": 3
   },
   "file_extension": ".py",
   "mimetype": "text/x-python",
   "name": "python",
   "nbconvert_exporter": "python",
   "pygments_lexer": "ipython3",
   "version": "3.9.13"
  }
 },
 "nbformat": 4,
 "nbformat_minor": 5
}
