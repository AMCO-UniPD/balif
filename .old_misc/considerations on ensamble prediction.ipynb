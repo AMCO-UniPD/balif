{
 "cells": [
  {
   "cell_type": "code",
   "execution_count": null,
   "id": "6a7c3790-2b60-425e-8d5e-2745c4ac0aaa",
   "metadata": {},
   "outputs": [],
   "source": [
    "import warnings\n",
    "\n",
    "import matplotlib.pyplot as plt\n",
    "import numpy as np\n",
    "from tqdm.notebook import tqdm\n",
    "\n",
    "warnings.filterwarnings(\"ignore\")\n",
    "# plt.style.use('dark_background')"
   ]
  },
  {
   "cell_type": "code",
   "execution_count": null,
   "id": "2200bcd3",
   "metadata": {},
   "outputs": [],
   "source": [
    "from functools import cache\n",
    "import numpy as np\n",
    "import random\n",
    "\n",
    "@cache\n",
    "def harmonic_number(n: int) -> float:\n",
    "    return 1 / n + harmonic_number(n - 1) if n > 0 else 0"
   ]
  },
  {
   "cell_type": "code",
   "execution_count": null,
   "id": "2806414a",
   "metadata": {},
   "outputs": [],
   "source": [
    "from dataclasses import dataclass\n",
    "\n",
    "k0 = 2**10\n",
    "\n",
    "@dataclass(order=True)\n",
    "class Sequence:\n",
    "    elements: list[int]\n",
    "\n",
    "def sim(k0: int) -> Sequence:\n",
    "    ki = [k0]\n",
    "    for i in range(int(np.log2(k0))):\n",
    "        ki.append(1 if ki[-1] <= 1 else random.randint(1, ki[-1]-1))\n",
    "    return Sequence(list(reversed(ki)))\n",
    "\n",
    "sims = np.array([sim(k0) for _ in tqdm(range(100000))])"
   ]
  },
  {
   "cell_type": "code",
   "execution_count": null,
   "id": "4aacb0fb",
   "metadata": {},
   "outputs": [],
   "source": [
    "sorted = np.sort(sims)"
   ]
  },
  {
   "cell_type": "code",
   "execution_count": null,
   "id": "142158e9",
   "metadata": {},
   "outputs": [],
   "source": [
    "print(sorted[0])\n",
    "print(sorted[-1])\n",
    "print(sorted[int(len(sorted) * 0.5)])"
   ]
  },
  {
   "cell_type": "code",
   "execution_count": null,
   "id": "622349a2-632f-4108-ba48-c9853efb3674",
   "metadata": {},
   "outputs": [],
   "source": [
    "from scipy.stats import beta\n",
    "x = np.linspace(0,1,1000)\n",
    "\n",
    "means = [0.55,0.3,0.8]\n",
    "sizes = [30,10,10]\n",
    "alphas = [m*s for m,s in zip(means,sizes)]\n",
    "betas = [(1-m)*s for m,s in zip(means,sizes)]\n",
    "distrs = [beta(a,b) for a,b in zip(alphas,betas)]\n",
    "\n",
    "r = 0.5\n",
    "\n",
    "\n",
    "plt.figure(figsize=(8,4), dpi=160)\n",
    "for i,(a,b,distr) in enumerate(zip(alphas,betas,distrs)):\n",
    "    plt.plot(x,distr.pdf(x), c=[\"tab:blue\",\"tab:orange\",\"tab:green\",][i], label=\"$G_{x_\"+str(i+1)+\"}(z)$\")\n",
    "    mode = (a-1)/(a+b-2)\n",
    "    margin = distr.pdf(mode)-distr.pdf(r)\n",
    "    #plt.plot([mode,mode],[distr.pdf(r),distr.pdf(mode)], \":k\")\n",
    "    plt.plot([r,mode],[distr.pdf(mode),distr.pdf(mode)], \":k\", alpha=0.7)\n",
    "    plt.plot([r,mode],[distr.pdf(r),distr.pdf(r)], \":k\", alpha=0.7)\n",
    "    \n",
    "    plt.errorbar(mode,distr.pdf(r), yerr=margin-0.2, lolims = True, ecolor=\"k\")#[\"tab:blue\",\"tab:orange\",\"tab:green\",][i])\n",
    "\n",
    "plt.plot([r,r],[-1,100],\"tab:red\", label = \"r\")\n",
    "plt.ylim(-0.5,5)\n",
    "plt.xlim(0,1)\n",
    "plt.xlabel(\"z\")\n",
    "plt.legend()"
   ]
  },
  {
   "attachments": {},
   "cell_type": "markdown",
   "id": "fcdd12a8-6597-4c1d-aa15-0a83771def8a",
   "metadata": {},
   "source": [
    "# priors"
   ]
  },
  {
   "cell_type": "code",
   "execution_count": null,
   "id": "8456893e-d3e2-4770-b441-5426fe28ecbb",
   "metadata": {
    "collapsed": true,
    "jupyter": {
     "outputs_hidden": true
    },
    "tags": []
   },
   "outputs": [],
   "source": [
    "from scipy.stats import beta\n",
    "\n",
    "x = np.linspace(0,1,1000)\n",
    "for base_pred in np.arange(0.1,1,0.1):\n",
    "    size = 1./np.min((base_pred,1-base_pred),axis=0)\n",
    "    a,b = base_pred*size, (1-base_pred)*size\n",
    "    base_pred,a,b = np.round(base_pred,1),np.round(a,1),np.round(b,1)\n",
    "\n",
    "    plt.figure()\n",
    "    plt.title(f\"{base_pred=} {a=} {b=}\")\n",
    "    distr = beta(a,b)\n",
    "    plt.plot(x,distr.pdf(x), label=\"mean=<mean>\")\n",
    "    plt.vlines(base_pred,np.min(distr.pdf(x)),np.max(distr.pdf(x)),\"r\")"
   ]
  },
  {
   "attachments": {},
   "cell_type": "markdown",
   "id": "659a6b82-3d14-42df-ba4f-cb58884be0d0",
   "metadata": {},
   "source": [
    "# esnambles"
   ]
  },
  {
   "cell_type": "code",
   "execution_count": null,
   "id": "c3999ad8-72d7-430c-80b3-648f205ec036",
   "metadata": {},
   "outputs": [],
   "source": [
    "def simulate(metrics, runs=100000, trees=100):\n",
    "    alphas = 1/2+np.random.gamma(2,size=trees)\n",
    "    betas = 1/2+np.random.gamma(0.2,size=trees)\n",
    "    \n",
    "    res = {m:[] for m in metrics}\n",
    "    for run in tqdm(range(runs)):\n",
    "        anom_rates = [np.random.beta(a,b) for a,b in zip(alphas,betas)]\n",
    "        for m in metrics:\n",
    "            if m==\"mean\":\n",
    "                res[m].append(np.mean(anom_rates))\n",
    "            if m==\"gmean\":\n",
    "                res[m].append(np.exp(np.mean(np.log(anom_rates))))\n",
    "                    \n",
    "    return alphas, betas, res"
   ]
  },
  {
   "cell_type": "code",
   "execution_count": null,
   "id": "94432c44-57d2-4e1b-b168-c9cc2eeca8ee",
   "metadata": {
    "tags": []
   },
   "outputs": [],
   "source": [
    "from scipy.stats import beta\n",
    "\n",
    "x = np.linspace(0,1,1000)\n",
    "metrics = [\"mean\",\"gmean\"]\n",
    "alphas, betas, res = simulate(metrics)\n",
    "\n",
    "modes = (alphas-1)/(alphas+betas-2)\n",
    "concs = alphas+betas-2\n",
    "means = (alphas)/(alphas+betas)\n",
    "sampsizes = alphas+betas"
   ]
  },
  {
   "cell_type": "code",
   "execution_count": null,
   "id": "4334ee29-25d8-4035-bce3-d2bcbf50d81a",
   "metadata": {},
   "outputs": [],
   "source": [
    "for m,realizations in res.items():\n",
    "    plt.hist(realizations, density=True, label=m, alpha=0.7, bins=100);\n",
    "\n",
    "# max_likelihood    \n",
    "a, b = 1+np.sum(alphas-1), 1+np.sum(betas-1)\n",
    "distr = beta(a,b)\n",
    "plt.plot(x,distr.pdf(x), label=\"ML\")\n",
    "\n",
    "# mode = <mode>, concentration = sum(concentration)\n",
    "mode = np.mean(modes)\n",
    "conc = np.sum(concs)\n",
    "a, b = 1+conc*mode, 1+conc*(1-mode)\n",
    "distr = beta(a,b)\n",
    "plt.plot(x,distr.pdf(x), label=\"mode=<mode>\")\n",
    "\n",
    "# mean = <mean>, samplesize = sum(samplesize)\n",
    "mean = np.mean(means)\n",
    "sampsize = np.sum(sampsizes+1)\n",
    "a, b = sampsize*mean, sampsize*(1-mean)\n",
    "distr = beta(a,b)\n",
    "plt.plot(x,distr.pdf(x), label=\"mean=<mean>\")\n",
    "\n",
    "plt.legend()"
   ]
  },
  {
   "cell_type": "code",
   "execution_count": null,
   "id": "bb79350a-94b0-4265-b056-b10d30946ddd",
   "metadata": {},
   "outputs": [],
   "source": []
  }
 ],
 "metadata": {
  "kernelspec": {
   "display_name": "Python 3",
   "language": "python",
   "name": "python3"
  },
  "language_info": {
   "codemirror_mode": {
    "name": "ipython",
    "version": 3
   },
   "file_extension": ".py",
   "mimetype": "text/x-python",
   "name": "python",
   "nbconvert_exporter": "python",
   "pygments_lexer": "ipython3",
   "version": "3.9.13"
  }
 },
 "nbformat": 4,
 "nbformat_minor": 5
}
