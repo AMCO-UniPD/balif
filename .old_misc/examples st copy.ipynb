{
 "cells": [
  {
   "cell_type": "code",
   "execution_count": null,
   "id": "26de501d-1d6d-42d7-b8de-0cc54135f128",
   "metadata": {
    "executionInfo": {
     "elapsed": 7,
     "status": "ok",
     "timestamp": 1668955843206,
     "user": {
      "displayName": "Davide Sartor",
      "userId": "09194974830566603536"
     },
     "user_tz": -60
    },
    "id": "eeacb82b-d27a-45e3-8edd-70ca87dff34c"
   },
   "outputs": [],
   "source": [
    "import warnings\n",
    "import matplotlib.pyplot as plt\n",
    "import numpy as np\n",
    "from tqdm.notebook import tqdm\n",
    "\n",
    "warnings.filterwarnings(\"ignore\")\n",
    "#plt.style.use('dark_background')"
   ]
  },
  {
   "cell_type": "code",
   "execution_count": null,
   "id": "f36a0522-1af1-4393-a408-8d16d4453258",
   "metadata": {
    "executionInfo": {
     "elapsed": 712,
     "status": "ok",
     "timestamp": 1668955843912,
     "user": {
      "displayName": "Davide Sartor",
      "userId": "09194974830566603536"
     },
     "user_tz": -60
    },
    "id": "5a1e1844-bbdc-44b0-9f43-2307c6ff67b4"
   },
   "outputs": [],
   "source": [
    "from utils import datasets\n",
    "from utils.utils import *\n",
    "from utils.distanceforest import DistanceIsolationForest\n",
    "from utils.forests import ExtendedIsolationForest, IsolationForest, ExtendedIsolationForest"
   ]
  },
  {
   "cell_type": "code",
   "execution_count": null,
   "id": "39ac79cb-508f-458b-8eb6-74935573aa06",
   "metadata": {},
   "outputs": [],
   "source": [
    "def plt_scatter_predictions(model, points=None, adaptive_range=False, resolution=50):\n",
    "    grid = np.linspace(-0.9,0.9,resolution).astype(np.float64)\n",
    "    heatmap = np.array([[model.predict(np.array([(x,y) for x in grid])) for y in grid]])[0]\n",
    "    #x,y = np.meshgrid(grid,grid)\n",
    "    #plt.contour(x,y,heatmap,levels=[0.30,0.40,0.50,0.60,0.70])\n",
    "    \n",
    "    if adaptive_range:\n",
    "        plt.imshow(heatmap,extent=(-0.9,0.9,-0.9,0.9), origin = \"lower\", cmap=\"coolwarm\") \n",
    "        plt.colorbar()\n",
    "    else:\n",
    "        plt.imshow(heatmap,extent=(-0.9,0.9,-0.9,0.9), vmin=0.25, vmax=0.75, origin = \"lower\", cmap=\"coolwarm\") \n",
    "    \n",
    "    if points is not None:\n",
    "        x,y,l = points[:,0], points[:,1], points[:,2]\n",
    "        plt.scatter(x[l==1],y[l==1], s=20, facecolors='firebrick', edgecolors='w')\n",
    "        plt.scatter(x[l==0],y[l==0], s=20, facecolors='midnightblue', edgecolors='w')\n",
    "    plt.xticks([])\n",
    "    plt.yticks([])"
   ]
  },
  {
   "cell_type": "code",
   "execution_count": null,
   "id": "3cb48cfb",
   "metadata": {},
   "outputs": [],
   "source": [
    "from sklearn.metrics import average_precision_score\n",
    "from sklearn.metrics import roc_auc_score\n",
    "from joblib import Parallel, delayed"
   ]
  },
  {
   "cell_type": "code",
   "execution_count": null,
   "id": "cc5b9244-b741-47b2-9bb3-33895d4736ac",
   "metadata": {
    "tags": []
   },
   "outputs": [],
   "source": [
    "def perform_run(model, data, labels):\n",
    "    model.fit(data)\n",
    "    return average_precision_score(labels, model.predict(data))\n",
    "\n",
    "models = [\n",
    "    DistanceIsolationForest(n_estimators=128, max_samples=512),\n",
    "    IsolationForest(n_estimators=128, max_samples=512),\n",
    "    ExtendedIsolationForest(n_estimators=128, max_samples=512)\n",
    "]\n",
    "colors = [\"tab:orange\",\"tab:blue\",\"tab:green\"]\n",
    "\n",
    "n_runs = 1\n",
    "for i,dataset_name in enumerate(tqdm(datasets.datasets_names_short)):\n",
    "    data, labels = datasets.load_dataset(dataset_name)\n",
    "    for model, color in zip(models, colors):\n",
    "        scores = [perform_run(model, data, labels) for run in range(n_runs)] \n",
    "        plt.plot(i,np.mean(scores),\"o\", color=color)"
   ]
  },
  {
   "cell_type": "code",
   "execution_count": null,
   "id": "e6cad5bd",
   "metadata": {},
   "outputs": [],
   "source": [
    "plt.figure(figsize=(16,6),dpi=80)\n",
    "model = DistanceIsolationForest(n_estimators=10, max_samples=1024)\n",
    "model.fit(data)\n",
    "pred = model.predict(data)\n",
    "plt.subplot(121)\n",
    "plt_scatter_predictions(model, adaptive_range=True, resolution=100)\n",
    "plt.subplot(122)\n",
    "plt.scatter(np.zeros_like(pred[labels==0]), pred[labels==0],)\n",
    "plt.scatter(np.ones_like(pred[labels==1]), pred[labels==1],)"
   ]
  },
  {
   "cell_type": "code",
   "execution_count": null,
   "id": "b779d9d2",
   "metadata": {},
   "outputs": [],
   "source": []
  }
 ],
 "metadata": {
  "kernelspec": {
   "display_name": "Python 3",
   "language": "python",
   "name": "python3"
  },
  "language_info": {
   "codemirror_mode": {
    "name": "ipython",
    "version": 3
   },
   "file_extension": ".py",
   "mimetype": "text/x-python",
   "name": "python",
   "nbconvert_exporter": "python",
   "pygments_lexer": "ipython3",
   "version": "3.9.13"
  }
 },
 "nbformat": 4,
 "nbformat_minor": 5
}
