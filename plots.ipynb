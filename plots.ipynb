{
 "cells": [
  {
   "cell_type": "code",
   "execution_count": null,
   "metadata": {},
   "outputs": [],
   "source": [
    "import os\n",
    "import numpy as np\n",
    "import matplotlib.pyplot as plt\n",
    "import odds_datasets\n",
    "\n",
    "\n",
    "def load_sims(dataset, batch_size, interest_method, data_copies, independent_queries):\n",
    "    save_dir = f\"results/{data_copies}x{dataset}/{\"independent\" if independent_queries else \"worstcase\"}/{interest_method}/batch_size_{batch_size}\"\n",
    "    files = [f\"{save_dir}/{f}\" for f in os.listdir(save_dir) if f.endswith(\".npz\")]\n",
    "    sim = np.stack([np.load(f)[\"avp_test\"] for f in files], axis=-1)\n",
    "    return sim\n",
    "\n",
    "\n",
    "def plot_sim(\n",
    "    dataset,\n",
    "    batch_size,\n",
    "    data_copies,\n",
    "    strategies=[\"bald\", \"margin\", \"anom\"],\n",
    "):\n",
    "    if dataset == \"legend\":\n",
    "        for strategy, color in zip(strategies, plt.cm.tab10.colors):\n",
    "            plt.plot([], [], label=f\"{strategy}\", color=color)\n",
    "        for independent, linestyle in zip([False, True], [\"-\", \":\"]):\n",
    "            plt.plot([], [], label=f\"independent={independent}\", linestyle=linestyle, color=\"black\")\n",
    "        plt.legend()\n",
    "        return\n",
    "    for strategy, color in zip(strategies, plt.cm.tab10.colors):\n",
    "        for independent, linestyle in zip([False, True], [\"-\", \":\"]):\n",
    "            try:\n",
    "                sim = load_sims(dataset, batch_size, strategy, data_copies, independent_queries=independent)\n",
    "                x = np.arange(len(sim)) / len(sim) * 100\n",
    "                value = sim.mean(-1)\n",
    "                lb = value - sim.std(-1)*1.96/np.sqrt(sim.shape[-1])\n",
    "                ub = value + sim.std(-1)*1.96/np.sqrt(sim.shape[-1])\n",
    "                plt.plot(x, value, color=color, linestyle=linestyle)\n",
    "                plt.fill_between(x, lb, ub, alpha=0.1, color=color)\n",
    "            except:\n",
    "                pass\n",
    "    plt.grid(True)\n",
    "    plt.xlim(0, 20)\n",
    "\n",
    "for data_copies in [3]:\n",
    "    for batch_size in [1]:\n",
    "        plt.figure(figsize=(9, 18))\n",
    "        for i, dataset in enumerate(odds_datasets.datasets_names):\n",
    "            plt.subplot(6, 3, i + 1)\n",
    "            plt.title(f\"{dataset}\")\n",
    "            plot_sim(dataset, batch_size=batch_size, data_copies=data_copies)\n",
    "        plt.subplot(6, 3, 18)\n",
    "        plot_sim(\"legend\", None, None)\n",
    "        plt.axis(\"off\")\n",
    "        plt.suptitle(f\"Copies={data_copies}, Batch={batch_size}\")\n",
    "        plt.tight_layout()\n",
    "        plt.savefig(f\"results/plot_batch_{batch_size}_copies_{data_copies}.pdf\")\n",
    "        plt.show()"
   ]
  }
 ],
 "metadata": {
  "kernelspec": {
   "display_name": "torch_env",
   "language": "python",
   "name": "python3"
  },
  "language_info": {
   "codemirror_mode": {
    "name": "ipython",
    "version": 3
   },
   "file_extension": ".py",
   "mimetype": "text/x-python",
   "name": "python",
   "nbconvert_exporter": "python",
   "pygments_lexer": "ipython3",
   "version": "3.12.2"
  }
 },
 "nbformat": 4,
 "nbformat_minor": 2
}
