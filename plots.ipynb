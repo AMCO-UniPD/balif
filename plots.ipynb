{
 "cells": [
  {
   "cell_type": "code",
   "execution_count": null,
   "metadata": {},
   "outputs": [],
   "source": [
    "import os\n",
    "import numpy as np\n",
    "import matplotlib.pyplot as plt\n",
    "import odds_datasets\n",
    "\n",
    "\n",
    "def load_sims(dataset, batch_size, strategy, data_copies):\n",
    "    save_dir = f\"results/{dataset}x{data_copies}/{strategy}/batch_size_{batch_size}\"\n",
    "    files = [f\"{save_dir}/{f}\" for f in os.listdir(save_dir)]\n",
    "    sim = np.stack([np.load(f)[\"avp_test\"] for f in files], axis=-1)\n",
    "    return sim\n",
    "\n",
    "\n",
    "def plot_sim(\n",
    "    dataset,\n",
    "    data_copies=1,\n",
    "    batch_sizes=[1, 2, 5, 10],\n",
    "    strategies=[\"worstcase\", \"average\", \"bestcase\", \"independent\"],\n",
    "):\n",
    "    if dataset == \"legend\":\n",
    "        for batch_size, color in zip(batch_sizes, plt.cm.tab10.colors):\n",
    "            plt.plot([], [], label=f\"batch size {batch_size}\", color=color)\n",
    "\n",
    "        for strategy, linestyle in zip(strategies, [\"-\", \"--\", \"-.\", \":\"]):\n",
    "            plt.plot([], [], label=strategy, linestyle=linestyle, color=\"black\")\n",
    "        plt.legend()\n",
    "        return\n",
    "    for strategy, linestyle in zip(strategies, [\"-\", \"--\", \"-.\", \":\"]):\n",
    "        for batch_size, color in zip(batch_sizes, plt.cm.tab10.colors):\n",
    "            sim = load_sims(dataset, batch_size, strategy, data_copies)\n",
    "            x = np.arange(len(sim)) / len(sim) * 100\n",
    "            value = sim.mean(-1)\n",
    "            lb = value - sim.std(-1)\n",
    "            ub = value + sim.std(-1)\n",
    "            plt.plot(x, value, color=color, linestyle=linestyle)\n",
    "            plt.fill_between(x, lb, ub, alpha=0.1, color=color)\n",
    "            plt.grid(True)\n",
    "            plt.xlim(0, 10)\n",
    "\n",
    "\n",
    "plt.figure(figsize=(9, 18))\n",
    "for i, dataset in enumerate(odds_datasets.datasets_names):\n",
    "    plt.subplot(6, 3, i + 1)\n",
    "    plt.title(f\"{dataset}\")\n",
    "    try:\n",
    "        plot_sim(dataset, data_copies=5)\n",
    "    except:\n",
    "        pass\n",
    "plt.subplot(6, 3, 18)\n",
    "plot_sim(\"legend\")\n",
    "plt.axis(\"off\")\n",
    "plt.tight_layout()\n",
    "plt.savefig(\"results/plot.pdf\")\n",
    "plt.show()"
   ]
  }
 ],
 "metadata": {
  "kernelspec": {
   "display_name": "torch_env",
   "language": "python",
   "name": "python3"
  },
  "language_info": {
   "codemirror_mode": {
    "name": "ipython",
    "version": 3
   },
   "file_extension": ".py",
   "mimetype": "text/x-python",
   "name": "python",
   "nbconvert_exporter": "python",
   "pygments_lexer": "ipython3",
   "version": "3.12.2"
  }
 },
 "nbformat": 4,
 "nbformat_minor": 2
}
