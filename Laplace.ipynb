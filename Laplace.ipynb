{
 "cells": [
  {
   "cell_type": "code",
   "execution_count": null,
   "metadata": {},
   "outputs": [],
   "source": [
    "import numpy as np\n",
    "import matplotlib.pyplot as plt"
   ]
  },
  {
   "cell_type": "code",
   "execution_count": null,
   "metadata": {},
   "outputs": [],
   "source": [
    "r = lambda: np.random.uniform(-5, 5)\n",
    "\n",
    "def R(x):\n",
    "    x1, x2 = x\n",
    "    R_lims = {\n",
    "        0: ((-4, 0), (-4, 0)),\n",
    "        1: ((-1, 3), (-3, 1)),\n",
    "        2: ((-2, 1), (2, 4)),\n",
    "        3: ((-3, 4), (-1, 3)),\n",
    "    }\n",
    "    \n",
    "    R_lims = {\n",
    "        i: ((r(), r()), (r(), r()))\n",
    "        for i in range(10)\n",
    "    }\n",
    "    return np.array([\n",
    "        x1_min <= x1 <= x1_max and x2_min <= x2 <= x2_max\n",
    "        for (x1_min, x1_max), (x2_min, x2_max) in R_lims.values()\n",
    "    ]).astype(float)\n",
    "\n",
    "\n",
    "xl = [\n",
    "    ((r(), r()), 1)\n",
    "    for _ in range(100)\n",
    "]"
   ]
  },
  {
   "cell_type": "code",
   "execution_count": null,
   "metadata": {},
   "outputs": [],
   "source": [
    "x, y = np.meshgrid(np.linspace(-5, 5, 100), np.linspace(-5, 5, 100))\n",
    "X = np.stack([x, y], axis=-1)\n",
    "Z = np.array([R(x) for x in X.reshape(-1, 2)]).reshape(100, 100, -1)\n",
    "n = Z.shape[-1]\n",
    "Z = Z.sum(axis=-1)\n",
    "\n",
    "plt.figure(figsize=(4, 4))\n",
    "plt.contourf(x, y, Z, levels=20)\n",
    "for x, y in xl:\n",
    "    plt.plot(*x, 'ro')\n",
    "plt.show()"
   ]
  },
  {
   "cell_type": "code",
   "execution_count": null,
   "metadata": {},
   "outputs": [],
   "source": [
    "%env JAX_PLATFORMS=cpu\n",
    "import jax.numpy as jnp\n",
    "import jax\n",
    "from jax import config\n",
    "config.update(\"jax_enable_x64\", True)"
   ]
  },
  {
   "cell_type": "code",
   "execution_count": null,
   "metadata": {},
   "outputs": [],
   "source": [
    "mu0 = -1\n",
    "sigma0 = 5\n",
    "wl = jnp.array([y * R(x) for x, y in xl]).astype(float).T\n",
    "x0 = jnp.zeros(n)\n",
    "\n",
    "\n",
    "def f(x):\n",
    "    return 1 / (1 + jnp.exp(-x))\n",
    "\n",
    "\n",
    "def log_prior(x):\n",
    "    return -0.5 * jnp.sum(((x - mu0) / sigma0) ** 2, axis=-1)\n",
    "\n",
    "\n",
    "def log_likelihood(x):\n",
    "    return jnp.sum(jnp.log(f(x@ wl)), axis=-1)\n",
    "\n",
    "\n",
    "def log_posterior(x):\n",
    "    return log_likelihood(x) + log_prior(x)\n",
    "\n",
    "\n",
    "print(f(x0))\n",
    "print(log_likelihood(x0))\n",
    "print(log_prior(x0))\n",
    "print(log_posterior(x0))"
   ]
  },
  {
   "cell_type": "code",
   "execution_count": null,
   "metadata": {},
   "outputs": [],
   "source": [
    "def plot_corner(\n",
    "    n,\n",
    "    log_pdf,\n",
    "    xs=np.linspace(-10, 10, 10),\n",
    "    start=None,\n",
    "    map=None,\n",
    "    transform_x=False,\n",
    "    transform_y=False,\n",
    "    title=\"\",\n",
    "):\n",
    "    Theta = jnp.stack(jnp.meshgrid(*[xs] * n), axis=-1)\n",
    "    Z = log_pdf(Theta)\n",
    "    if transform_y:\n",
    "        Z = jnp.exp(Z)\n",
    "\n",
    "    if transform_x:\n",
    "        xs = 1 / (1 + jnp.exp(-xs))\n",
    "        map = 1 / (1 + jnp.exp(-map)) if map is not None else None\n",
    "        start = 1 / (1 + jnp.exp(-start)) if start is not None else None\n",
    "\n",
    "    plt.figure(figsize=(12, 10))\n",
    "    plt.suptitle(title)\n",
    "    for i in range(n):\n",
    "        for j in range(i + 1, n):\n",
    "            other = tuple(a for a in range(n) if a not in (i, j))\n",
    "            plt.subplot(n-1, n-1, i * (n-1) + j)\n",
    "            plt.contourf(xs, xs, Z.max(other), levels=50)\n",
    "            #plt.colorbar()\n",
    "            if map is not None:\n",
    "                plt.plot(map.take(j), map.take(i), \"rx\")\n",
    "            if start is not None:\n",
    "                plt.plot(start.take(j), start.take(i), \"kx\")"
   ]
  },
  {
   "cell_type": "code",
   "execution_count": null,
   "metadata": {},
   "outputs": [],
   "source": [
    "from scipy import optimize\n",
    "target = lambda x: -log_posterior(x)\n",
    "jac = jax.jacobian(target)\n",
    "hes = jax.hessian(target)\n",
    "\n",
    "print(target(x0))\n",
    "print(jac(x0))\n",
    "print(hes(x0))\n",
    "\n",
    "sol = optimize.minimize(target, x0, jac=jac, hess=hes, method='Newton-CG')\n",
    "sol"
   ]
  },
  {
   "cell_type": "code",
   "execution_count": null,
   "metadata": {},
   "outputs": [],
   "source": [
    "plot_corner(\n",
    "    n,\n",
    "    log_prior,\n",
    "    map=sol.x,\n",
    "    start=x0,\n",
    "    transform_y=True,\n",
    "    transform_x=True,\n",
    "    title=\"log Prior\",\n",
    ")\n",
    "plot_corner(\n",
    "    n,\n",
    "    log_posterior,\n",
    "    map=sol.x,\n",
    "    start=x0,\n",
    "    transform_y=True,\n",
    "    transform_x=True,\n",
    "    title=\"log Posterior\",\n",
    ")"
   ]
  },
  {
   "cell_type": "code",
   "execution_count": null,
   "metadata": {},
   "outputs": [],
   "source": [
    "import optimistix as optx\n",
    "\n",
    "solver = optx.BFGS(rtol=1e-5, atol=1e-5)\n",
    "sol = optx.minimise(lambda x, p: target(x), solver, x0)\n",
    "sol.value"
   ]
  },
  {
   "cell_type": "code",
   "execution_count": null,
   "metadata": {},
   "outputs": [],
   "source": [
    "plot_corner(\n",
    "    n,\n",
    "    log_posterior,\n",
    "    map=sol.value,\n",
    "    start=x0,\n",
    "    transform_y=True,\n",
    "    transform_x=True,\n",
    "    title=\"log Posterior\",\n",
    ")"
   ]
  }
 ],
 "metadata": {
  "kernelspec": {
   "display_name": "Python 3",
   "language": "python",
   "name": "python3"
  },
  "language_info": {
   "codemirror_mode": {
    "name": "ipython",
    "version": 3
   },
   "file_extension": ".py",
   "mimetype": "text/x-python",
   "name": "python",
   "nbconvert_exporter": "python",
   "pygments_lexer": "ipython3",
   "version": "3.12.2"
  }
 },
 "nbformat": 4,
 "nbformat_minor": 2
}
