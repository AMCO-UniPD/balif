{
 "cells": [
  {
   "cell_type": "code",
   "execution_count": null,
   "metadata": {},
   "outputs": [],
   "source": [
    "import os\n",
    "#%env JAX_PLATFORMS=cpu\n",
    "%env CUDA_VISIBLE_DEVICES=0\n",
    "%env XLA_PYTHON_CLIENT_PREALLOCATE=false\n",
    "os.chdir('..')\n",
    "import jax\n",
    "import jax.numpy as jnp\n",
    "import jax.random as jr\n",
    "import matplotlib.pyplot as plt"
   ]
  },
  {
   "cell_type": "code",
   "execution_count": null,
   "metadata": {},
   "outputs": [],
   "source": [
    "from forests import IsolationForest\n",
    "from balif import Balif\n",
    "\n",
    "model_configs: dict = {\n",
    "    \"IF\": dict(\n",
    "        hyperplane_components=1,\n",
    "        p_normal_idx=\"uniform\",\n",
    "        p_normal_value=\"uniform\",\n",
    "        p_intercept=\"uniform\",\n",
    "    ),\n",
    "    \"BIF\": dict(\n",
    "        hyperplane_components=1,\n",
    "        p_normal_idx=\"range\",\n",
    "        p_normal_value=\"covariant\",\n",
    "        p_intercept=\"uniform\",\n",
    "    ),\n",
    "    \"EIF\": dict(\n",
    "        hyperplane_components=2,\n",
    "        p_normal_idx=\"uniform\",\n",
    "        p_normal_value=\"uniform\",\n",
    "        p_intercept=\"uniform\",\n",
    "    ),\n",
    "    \"BEIF\": dict(\n",
    "        hyperplane_components=2,\n",
    "        p_normal_idx=\"range\",\n",
    "        p_normal_value=\"covariant\",\n",
    "        p_intercept=\"uniform\",\n",
    "    ),\n",
    "}"
   ]
  },
  {
   "cell_type": "code",
   "execution_count": null,
   "metadata": {},
   "outputs": [],
   "source": [
    "rng_anom, rng_inlier, rng_forest, rng_labels = jr.split(jr.PRNGKey(0), 4)\n",
    "data_anomaly = jr.normal(rng_inlier, (64, 2))\n",
    "data_inlier = 0.5 * jr.normal(rng_anom, (1024, 2))\n",
    "data_inlier = data_inlier.at[:, 1].mul(0.2)\n",
    "data_inlier = data_inlier.at[:, 0].mul(5)\n",
    "data = jnp.concatenate([data_anomaly, data_inlier], axis=0)\n",
    "is_anomaly = jnp.concatenate(\n",
    "    [jnp.ones(len(data_anomaly)), jnp.zeros(len(data_inlier))]\n",
    ").astype(bool)\n",
    "\n",
    "\n",
    "plt.figure(figsize=(5, 5), dpi=80)\n",
    "plt.scatter(data_inlier[:, 0], data_inlier[:, 1], c=\"grey\", s=10, label=\"inlier\")\n",
    "plt.scatter(\n",
    "    data_anomaly[:, 0], data_anomaly[:, 1], c=\"darksalmon\", s=10, label=\"anomaly\"\n",
    ")\n",
    "plt.legend()\n",
    "plt.xlim(-5, 5)\n",
    "plt.ylim(-5, 5)\n",
    "plt.grid()\n",
    "plt.show()"
   ]
  },
  {
   "cell_type": "code",
   "execution_count": null,
   "metadata": {},
   "outputs": [],
   "source": [
    "def plot_heatmap(model, title=\"Anomaly Score\", vmin=None, vmax=None, key=jr.PRNGKey(0)):\n",
    "    X, Y = jnp.meshgrid(jnp.linspace(-5, 5, 100), jnp.linspace(-5, 5, 100))\n",
    "    coord = jnp.stack([X.flatten(), Y.flatten()]).T\n",
    "    scores = model.score(coord, key=key)\n",
    "    plt.figure(figsize=(6, 5), dpi=80)\n",
    "    plt.title(title)\n",
    "    plt.contourf(\n",
    "        X, Y, scores.reshape(100, 100), levels=16, cmap=\"cividis\", vmin=vmin, vmax=vmax\n",
    "    )\n",
    "    plt.colorbar()\n",
    "    plt.xticks([])\n",
    "    plt.yticks([])\n",
    "\n",
    "\n",
    "for model_name, model_config in model_configs.items():\n",
    "    model = Balif(**model_config)\n",
    "    model = model.fit(data, key=rng_forest)\n",
    "    plot_heatmap(model, title=model_name)\n",
    "    plt.show()\n",
    "    for i in range(1):\n",
    "        model = model.register(data[i], is_anomaly=is_anomaly[i], key=jr.key(0))\n",
    "        model.register(data[-i], is_anomaly=is_anomaly[-i], key=jr.key(0))\n",
    "    plot_heatmap(model, title=model_name)\n",
    "    plt.show()"
   ]
  }
 ],
 "metadata": {
  "kernelspec": {
   "display_name": "base",
   "language": "python",
   "name": "python3"
  },
  "language_info": {
   "codemirror_mode": {
    "name": "ipython",
    "version": 3
   },
   "file_extension": ".py",
   "mimetype": "text/x-python",
   "name": "python",
   "nbconvert_exporter": "python",
   "pygments_lexer": "ipython3",
   "version": "3.12.2"
  }
 },
 "nbformat": 4,
 "nbformat_minor": 2
}
