{
 "cells": [
  {
   "cell_type": "code",
   "execution_count": null,
   "metadata": {},
   "outputs": [],
   "source": [
    "%env CUDA_VISIBLE_DEVICES=2\n",
    "%env XLA_PYTHON_CLIENT_PREALLOCATE=false\n",
    "import jax\n",
    "import jax.numpy as jnp\n",
    "import matplotlib.pyplot as plt\n",
    "from balif import Balif"
   ]
  },
  {
   "cell_type": "code",
   "execution_count": null,
   "metadata": {},
   "outputs": [],
   "source": [
    "def plot_data(\n",
    "    data_inlier,\n",
    "    data_anomaly,\n",
    "    x_lims: tuple[int, int] = (-5, 5),\n",
    "    y_lims: tuple[int, int] = (-5, 5),\n",
    "):\n",
    "    plt.figure(figsize=(5, 5), dpi=80)\n",
    "    plt.scatter(data_inlier[:, 0], data_inlier[:, 1], marker=\"o\", c=\"grey\", s=10, label=\"inlier\")\n",
    "    plt.scatter(\n",
    "        data_anomaly[:, 0], data_anomaly[:, 1], marker=\"o\", c=\"darksalmon\", s=10, label=\"anomaly\"\n",
    "    )\n",
    "    plt.legend()\n",
    "    plt.xlim(*x_lims)\n",
    "    plt.ylim(*y_lims)\n",
    "    plt.grid()\n",
    "\n",
    "\n",
    "def plot_heatmap(\n",
    "    model,\n",
    "    queried=None,\n",
    "    vmin=0,\n",
    "    vmax=1,\n",
    "    x_lims: tuple[int, int] = (-5, 5),\n",
    "    y_lims: tuple[int, int] = (-5, 5),\n",
    "    plot_interests: bool = False,\n",
    "):\n",
    "    X, Y = jnp.meshgrid(jnp.linspace(*x_lims, 100), jnp.linspace(*y_lims, 100))\n",
    "    coord = jnp.stack([X.flatten(), Y.flatten()]).T\n",
    "    scores = model.score_samples(coord)\n",
    "    interests = model.interest_for(coord)\n",
    "\n",
    "    if plot_interests:\n",
    "        plt.figure(figsize=(12, 5), dpi=80)\n",
    "        plt.subplot(1, 2, 2)\n",
    "        plt.title(\"Interests\")\n",
    "        plt.contourf(X, Y, interests.reshape(100, 100), levels=16, cmap=\"cividis\")\n",
    "        plt.colorbar()\n",
    "        if queried is not None:\n",
    "            plt.scatter(queried[:, 0], queried[:, 1], facecolors=\"none\", edgecolors=\"black\", s=20)\n",
    "        plt.xticks([])\n",
    "        plt.yticks([])\n",
    "\n",
    "        plt.subplot(1, 2, 1)\n",
    "    else:\n",
    "        plt.figure(figsize=(6, 5), dpi=80)\n",
    "    plt.title(\"Anomaly Score\")\n",
    "    plt.contourf(X, Y, scores.reshape(100, 100), levels=16, cmap=\"cividis\", vmin=vmin, vmax=vmax)\n",
    "    plt.colorbar()\n",
    "    if queried is not None:\n",
    "        plt.scatter(queried[:, 0], queried[:, 1], facecolors=\"none\", edgecolors=\"black\", s=20)\n",
    "    plt.xticks([])\n",
    "    plt.yticks([])"
   ]
  },
  {
   "cell_type": "code",
   "execution_count": null,
   "metadata": {},
   "outputs": [],
   "source": [
    "model_configs = {\n",
    "    \"BALIF\": {\"model_cls\":Balif, \"hyperplane_components\": 1, \"path_score\": False},\n",
    "    \"EBALIF\": {\"model_cls\":Balif, \"hyperplane_components\": None, \"path_score\": False},\n",
    "    # \"BALIF (Path)\": {\"model_cls\":Balif, \"hyperplane_components\": 1, \"path_score\": True},\n",
    "    # \"EBALIF (Path)\": {\"model_cls\":Balif, \"hyperplane_components\": None, \"path_score\": True},\n",
    "}"
   ]
  },
  {
   "cell_type": "markdown",
   "metadata": {},
   "source": [
    "Double Blob"
   ]
  },
  {
   "cell_type": "code",
   "execution_count": null,
   "metadata": {},
   "outputs": [],
   "source": [
    "N_labels = 3\n",
    "\n",
    "rng_anom, rng_inlier, rng_forest, rng_labels = jax.random.split(jax.random.PRNGKey(0), 4)\n",
    "data_anomaly = 0.5*jax.random.normal(rng_inlier, (64, 2)) - 2\n",
    "data_inlier = 0.5*jax.random.normal(rng_anom, (256, 2)) + 2\n",
    "data = jnp.concatenate([data_anomaly, data_inlier], axis=0)\n",
    "is_anomaly = jnp.concatenate([jnp.ones(len(data_anomaly)), jnp.zeros(len(data_inlier))]).astype(bool)\n",
    "\n",
    "plot_data(data_inlier, data_anomaly)\n",
    "plt.savefig(f\"figures/blobs/blobs_dataset.pdf\", bbox_inches=\"tight\")\n",
    "\n",
    "for model_name, model_config in model_configs.items():\n",
    "    (_, model_cls), *model_config = list(model_config.items())\n",
    "    forest = model_cls.fit(rng_forest, data, **dict(model_config))\n",
    "    plot_heatmap(forest, plot_interests=False)\n",
    "    plt.savefig(f\"figures/blobs/blobs_{model_name}_0_queries.pdf\", bbox_inches=\"tight\")\n",
    "\n",
    "    queriable = jnp.ones(len(data)).astype(bool)\n",
    "    for i, key in enumerate(jax.random.split(rng_labels, N_labels)):\n",
    "        #interests = forest.interest_for(data)\n",
    "        #queries_idx = jnp.where(queriable, interests, interests.min()).argmax()\n",
    "        queries_idx = jax.random.choice(key, len(data)) \n",
    "        queriable = queriable.at[queries_idx].set(False)\n",
    "        forest = forest.register(data[queries_idx], is_anomaly[queries_idx])\n",
    "        plot_heatmap(forest, queried=data[~queriable], plot_interests=True)\n",
    "        plt.savefig(f\"figures/blobs/blobs_{model_name}_{i+1}_queries.pdf\", bbox_inches=\"tight\")\n",
    "        plt.show()"
   ]
  },
  {
   "cell_type": "markdown",
   "metadata": {},
   "source": [
    "Wave"
   ]
  },
  {
   "cell_type": "code",
   "execution_count": null,
   "metadata": {},
   "outputs": [],
   "source": [
    "N_labels = 3\n",
    "\n",
    "rng_datax, rng_datay, rng_forest, rng_labels = jax.random.split(jax.random.PRNGKey(0), 4)\n",
    "datax = jax.random.normal(rng_datax, (512,))*jnp.pi/2\n",
    "datay = 2*jnp.sin(3*datax) + 0.3*jax.random.normal(rng_datay, (512,))\n",
    "data = jnp.stack([datax, datay], axis=1)\n",
    "is_anomaly = jnp.pi/2 < data[:, 0]#(jnp.pi/8 < data[:, 0]) & (data[:, 0] < jnp.pi*3/8)\n",
    "data_anomaly = data[is_anomaly]\n",
    "data_inlier = data[~is_anomaly]\n",
    "data = jnp.concatenate([data_anomaly, data_inlier], axis=0)\n",
    "is_anomaly = jnp.concatenate([jnp.ones(len(data_anomaly)), jnp.zeros(len(data_inlier))]).astype(bool)\n",
    "\n",
    "plot_data(data_inlier, data_anomaly)\n",
    "plt.savefig(f\"figures/wave/wave_dataset.pdf\", bbox_inches=\"tight\")\n",
    "\n",
    "for model_name, model_config in model_configs.items():\n",
    "    (_, model_cls), *model_config = list(model_config.items())\n",
    "    forest = model_cls.fit(rng_forest, data, **dict(model_config))\n",
    "    plot_heatmap(forest, plot_interests=False)\n",
    "    plt.savefig(f\"figures/wave/wave_{model_name}_0_queries.pdf\", bbox_inches=\"tight\")\n",
    "\n",
    "    queriable = jnp.ones(len(data)).astype(bool)\n",
    "    for i, key in enumerate(jax.random.split(rng_labels, N_labels)):\n",
    "        queries_idx = jax.random.choice(key, len(data), ())        \n",
    "        #interests = forest.interest_for(data)\n",
    "        #queries_idx = jnp.where(queriable, interests, interests.min()).argmax()\n",
    "        queriable = queriable.at[queries_idx].set(False)\n",
    "        forest = forest.register(data[queries_idx], is_anomaly[queries_idx])\n",
    "        plot_heatmap(forest, queried=data[~queriable], plot_interests=True)\n",
    "        plt.savefig(f\"figures/wave/wave_{model_name}_{i+1}_queries.pdf\", bbox_inches=\"tight\")\n",
    "        plt.show()"
   ]
  }
 ],
 "metadata": {
  "kernelspec": {
   "display_name": "base",
   "language": "python",
   "name": "python3"
  },
  "language_info": {
   "codemirror_mode": {
    "name": "ipython",
    "version": 3
   },
   "file_extension": ".py",
   "mimetype": "text/x-python",
   "name": "python",
   "nbconvert_exporter": "python",
   "pygments_lexer": "ipython3",
   "version": "3.12.2"
  }
 },
 "nbformat": 4,
 "nbformat_minor": 2
}
