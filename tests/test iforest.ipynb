{
 "cells": [
  {
   "cell_type": "code",
   "execution_count": null,
   "metadata": {},
   "outputs": [],
   "source": [
    "import os\n",
    "os.environ[\"CUDA_VISIBLE_DEVICES\"]=\"2\"\n",
    "import jax\n",
    "import jax.numpy as jnp\n",
    "import matplotlib.pyplot as plt"
   ]
  },
  {
   "cell_type": "code",
   "execution_count": null,
   "metadata": {},
   "outputs": [],
   "source": [
    "from isolation_forest import ExtendedIsolationForest\n",
    "\n",
    "rng_data, rng_forest = jax.random.split(jax.random.PRNGKey(42))\n",
    "data = jax.random.normal(rng_data, (1024, 2))\n",
    "forest = ExtendedIsolationForest.fit(rng_forest, data, hyperplane_components=1)\n",
    "\n",
    "X, Y = jnp.meshgrid(jnp.linspace(-5, 5, 100), jnp.linspace(-5, 5, 100))\n",
    "coord = jnp.stack([X.flatten(), Y.flatten()]).T\n",
    "scores = forest.score_samples(coord)\n",
    "plt.figure(figsize=(12, 6))\n",
    "plt.subplot(122)\n",
    "plt.imshow(scores.reshape(100, 100), extent=(-5, 5, 5, -5), cmap=\"YlOrRd\")\n",
    "plt.colorbar()\n",
    "plt.subplot(121)\n",
    "plt.scatter(data[:, 0], data[:, 1], marker=\"o\", c=\"grey\", s=10)\n",
    "plt.xlim(-5, 5)\n",
    "plt.ylim(-5, 5)\n",
    "plt.grid()\n",
    "plt.show()"
   ]
  },
  {
   "cell_type": "code",
   "execution_count": null,
   "metadata": {},
   "outputs": [],
   "source": [
    "data_dim = 2\n",
    "rng_data, rng_forest = jax.random.split(jax.random.PRNGKey(42))\n",
    "data = jax.random.normal(rng_data, (10000, data_dim))"
   ]
  },
  {
   "cell_type": "code",
   "execution_count": null,
   "metadata": {},
   "outputs": [],
   "source": [
    "forest = ExtendedIsolationForest.fit(rng_forest, data, hyperplane_components = 1)\n",
    "scores = forest.score_samples(data)\n",
    "%timeit ExtendedIsolationForest.fit(rng_forest, data, hyperplane_components = 1).trees.normals.block_until_ready()\n",
    "%timeit forest.score_samples(data).block_until_ready()"
   ]
  },
  {
   "cell_type": "code",
   "execution_count": null,
   "metadata": {},
   "outputs": [],
   "source": [
    "vectorized_fit = jax.vmap(ExtendedIsolationForest.fit, in_axes=(0, None))\n",
    "vectorized_score = jax.vmap(ExtendedIsolationForest.score_samples, in_axes=(0, None))\n",
    "rng = jax.random.split(jax.random.PRNGKey(42), 32)\n",
    "forests = vectorized_fit(rng, data)\n",
    "scores = vectorized_score(forests, data)\n",
    "%timeit vectorized_fit(rng, data).trees.normals.block_until_ready()\n",
    "%timeit vectorized_score(forests, data).block_until_ready()"
   ]
  },
  {
   "cell_type": "code",
   "execution_count": null,
   "metadata": {},
   "outputs": [],
   "source": [
    "from sklearn.ensemble import IsolationForest\n",
    "model = IsolationForest(n_estimators=128)\n",
    "model.fit(data)\n",
    "%timeit model.fit(data)\n",
    "%timeit model.score_samples(data)"
   ]
  }
 ],
 "metadata": {
  "kernelspec": {
   "display_name": "base",
   "language": "python",
   "name": "python3"
  },
  "language_info": {
   "codemirror_mode": {
    "name": "ipython",
    "version": 3
   },
   "file_extension": ".py",
   "mimetype": "text/x-python",
   "name": "python",
   "nbconvert_exporter": "python",
   "pygments_lexer": "ipython3",
   "version": "3.12.2"
  }
 },
 "nbformat": 4,
 "nbformat_minor": 2
}
