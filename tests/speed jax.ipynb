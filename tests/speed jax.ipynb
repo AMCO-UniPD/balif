{
 "cells": [
  {
   "cell_type": "code",
   "execution_count": null,
   "metadata": {},
   "outputs": [],
   "source": [
    "import os\n",
    "#%env JAX_PLATFORMS=cpu\n",
    "%env CUDA_VISIBLE_DEVICES=0\n",
    "%env XLA_PYTHON_CLIENT_PREALLOCATE=false\n",
    "os.chdir('..')\n",
    "import jax\n",
    "import jax.numpy as jnp\n",
    "import jax.random as jr\n",
    "import equinox as eqx\n",
    "import matplotlib.pyplot as plt"
   ]
  },
  {
   "cell_type": "code",
   "execution_count": null,
   "metadata": {},
   "outputs": [],
   "source": [
    "distr"
   ]
  },
  {
   "cell_type": "code",
   "execution_count": null,
   "metadata": {},
   "outputs": [],
   "source": [
    "from balif import BetaDistribution\n",
    "\n",
    "N = 100\n",
    "alpha = jr.uniform(jr.PRNGKey(0), (N,), minval=-1, maxval=1)\n",
    "beta = jr.uniform(jr.PRNGKey(1), (N,), minval=-1, maxval=1)\n",
    "beliefs = BetaDistribution(alpha, beta)\n",
    "\n",
    "var = BetaDistribution.from_mean_and_var(\n",
    "    mean=beliefs.mean.mean(),\n",
    "    var=beliefs.var.mean() / N,\n",
    ")\n",
    "\n",
    "nu = BetaDistribution.from_mean_and_nu(\n",
    "    mean=beliefs.mean.mean(),\n",
    "    nu=beliefs.nu.sum(),\n",
    ")\n"
   ]
  },
  {
   "cell_type": "code",
   "execution_count": null,
   "metadata": {},
   "outputs": [],
   "source": [
    "x = jnp.linspace(0, 1, 100)\n",
    "plt.plot(x, jax.vmap(var.pdf)(x), label='var')\n",
    "plt.plot(x, jax.vmap(nu.pdf)(x), label='nu')\n",
    "plt.legend()"
   ]
  },
  {
   "cell_type": "code",
   "execution_count": null,
   "metadata": {},
   "outputs": [],
   "source": [
    "from forests import IsolationForest\n",
    "from balif import Balif\n",
    "\n",
    "rng_data, rng_fit, rng_score = jr.split(jr.key(42), 3)\n",
    "data = jr.normal(rng_data, (1024, 2))\n",
    "forest = IsolationForest(hyperplane_components=1)\n",
    "balif = Balif(hyperplane_components=1)\n",
    "\n",
    "def heatmap(model):\n",
    "    model = model.fit(data, key=rng_fit)    \n",
    "    X, Y = jnp.meshgrid(jnp.linspace(-5, 5, 100), jnp.linspace(-5, 5, 100))\n",
    "    coord = jnp.stack([X.flatten(), Y.flatten()]).T\n",
    "    scores = model.score(coord, key=rng_score)\n",
    "    plt.figure(figsize=(12, 6))\n",
    "    plt.subplot(122)\n",
    "    plt.imshow(scores.reshape(100, 100), extent=(-5, 5, 5, -5), cmap=\"YlOrRd\")\n",
    "    plt.colorbar()\n",
    "    plt.subplot(121)\n",
    "    plt.scatter(data[:, 0], data[:, 1], marker=\"o\", c=\"grey\", s=10)\n",
    "    plt.xlim(-5, 5)\n",
    "    plt.ylim(-5, 5)\n",
    "    plt.grid()\n",
    "    plt.show()\n",
    "\n",
    "heatmap(forest)\n",
    "heatmap(balif)"
   ]
  },
  {
   "cell_type": "code",
   "execution_count": null,
   "metadata": {},
   "outputs": [],
   "source": [
    "data_dim = 2\n",
    "data = jr.normal(rng_data, (10000, data_dim))\n",
    "forest = forest.fit(data, key=rng_fit)\n",
    "balif = balif.fit(data, key=rng_fit)\n",
    "scores = forest.score(data, key=rng_score)\n",
    "scores = balif.score(data, key=rng_score)\n",
    "\n",
    "from sklearn.ensemble import IsolationForest\n",
    "model = IsolationForest(n_estimators=128)\n",
    "model.fit(data)\n",
    "print(\"\\nIForest (sklearn)\")\n",
    "print(\"fit time:\")\n",
    "%timeit model.fit(data)\n",
    "print(\"score time:\")\n",
    "%timeit model.score_samples(data)\n",
    "\n",
    "print(\"\\nIForest (jax)\")\n",
    "print(\"fit time:\")\n",
    "%timeit forest.fit(data, key=rng_fit).trees.normals.block_until_ready()\n",
    "print(\"score time:\")\n",
    "%timeit forest.score(data, key=rng_score).block_until_ready()\n",
    "\n",
    "print(\"\\nBalif (jax)\")\n",
    "print(\"fit time:\")\n",
    "%timeit balif.fit(data, key=rng_fit).beliefs.alpha.block_until_ready()\n",
    "print(\"score time:\")\n",
    "%timeit balif.score(data, key=rng_score).block_until_ready()\n",
    "print(\"update time:\")\n",
    "%timeit balif.register(data[0], key=rng_score, is_anomaly=False).beliefs.alpha.block_until_ready()\n",
    "print(\"interest time:\")\n",
    "%timeit balif.interest(data, key=rng_score).block_until_ready()"
   ]
  },
  {
   "cell_type": "code",
   "execution_count": null,
   "metadata": {},
   "outputs": [],
   "source": [
    "vectorized_fit = eqx.filter_vmap(lambda key: forest.fit(data, key=key))\n",
    "vectorized_score = eqx.filter_vmap(lambda forest: forest.score(data, key=rng_score))\n",
    "forests = vectorized_fit(jr.split(rng_fit, 32))\n",
    "scores = vectorized_score(forests)\n",
    "%timeit vectorized_fit(jr.split(rng_fit, 32)).trees.normals.block_until_ready()\n",
    "%timeit vectorized_score(forests).block_until_ready()"
   ]
  },
  {
   "cell_type": "code",
   "execution_count": null,
   "metadata": {},
   "outputs": [],
   "source": [
    "vectorized_fit = eqx.filter_vmap(lambda key: balif.fit(data, key=key))\n",
    "vectorized_score = eqx.filter_vmap(lambda balif: balif.score(data, key=rng_score))\n",
    "vectorized_register = eqx.filter_vmap(lambda balif: balif.register(data[0], key=jr.key(0), is_anomaly=False))\n",
    "vectorized_interest = eqx.filter_vmap(lambda balif: balif.interest(data, key=rng_score))\n",
    "balifs = vectorized_fit(jr.split(rng_fit, 32))\n",
    "scores = vectorized_score(balifs)\n",
    "balifs = vectorized_register(balifs)\n",
    "%timeit vectorized_fit(jr.split(rng_fit, 32)).beliefs.alpha.block_until_ready()\n",
    "%timeit vectorized_score(balifs).block_until_ready()\n",
    "%timeit vectorized_register(balifs).beliefs.alpha.block_until_ready()\n",
    "%timeit vectorized_interest(balifs).block_until_ready()"
   ]
  }
 ],
 "metadata": {
  "kernelspec": {
   "display_name": "base",
   "language": "python",
   "name": "python3"
  },
  "language_info": {
   "codemirror_mode": {
    "name": "ipython",
    "version": 3
   },
   "file_extension": ".py",
   "mimetype": "text/x-python",
   "name": "python",
   "nbconvert_exporter": "python",
   "pygments_lexer": "ipython3",
   "version": "3.12.2"
  }
 },
 "nbformat": 4,
 "nbformat_minor": 2
}
