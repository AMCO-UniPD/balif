{
 "cells": [
  {
   "cell_type": "code",
   "execution_count": null,
   "metadata": {},
   "outputs": [],
   "source": [
    "%env CUDA_VISIBLE_DEVICES=2\n",
    "%env XLA_PYTHON_CLIENT_PREALLOCATE=false\n",
    "from tqdm.auto import tqdm\n",
    "import jax\n",
    "import jax.numpy as jnp\n",
    "import numpy as np\n",
    "from sklearn.metrics import average_precision_score\n",
    "import odds_datasets\n",
    "from balif import Balif\n",
    "from isolation_forest import ExtendedIsolationForest"
   ]
  },
  {
   "cell_type": "code",
   "execution_count": null,
   "metadata": {},
   "outputs": [],
   "source": [
    "model_configs = {\n",
    "    \"IF\": {\"model_cls\": ExtendedIsolationForest, \"hyperplane_components\": 1},\n",
    "    \"pIF\": {\"model_cls\": Balif, \"hyperplane_components\": 1, \"path_score\": False},\n",
    "    \"pIF (Path)\": {\"model_cls\":Balif, \"hyperplane_components\": 1, \"path_score\": True},\n",
    "    \"EIF\": {\"model_cls\": ExtendedIsolationForest, \"hyperplane_components\": None},\n",
    "    \"pEIF\": {\"model_cls\": Balif, \"hyperplane_components\": None, \"path_score\": False},\n",
    "    \"pEIF (Path)\": {\"model_cls\":Balif, \"hyperplane_components\": None, \"path_score\": True},\n",
    "}\n",
    "\n",
    "seed = 42\n",
    "n_sims = 32"
   ]
  },
  {
   "cell_type": "code",
   "execution_count": null,
   "metadata": {},
   "outputs": [],
   "source": [
    "def get_multi_fit_predict(model_cls, **fit_kwargs):\n",
    "    def fit_pred_fn(rng, data):\n",
    "        return model_cls.fit(rng, data, **fit_kwargs).score_samples(data)\n",
    "    return jax.jit(jax.vmap(fit_pred_fn, in_axes=(0, None)))\n",
    "    \n",
    "\n",
    "rng_keys = jax.random.split(jax.random.PRNGKey(seed), n_sims)\n",
    "\n",
    "for label, model_config in tqdm(model_configs.items(), desc=\"models\"):\n",
    "    fit_pred_fn = get_multi_fit_predict(**model_config)\n",
    "\n",
    "    for dataset_name in (pbar := tqdm(odds_datasets.datasets_names)):\n",
    "        data, labels = odds_datasets.load(dataset_name)\n",
    "        pbar.set_description(f\"{dataset_name}, shape: {data.shape}\")\n",
    "        scores = fit_pred_fn(rng_keys, data)\n",
    "        ap = np.array([average_precision_score(labels, s) for s in scores])\n",
    "        save_path = f\"results/fit_only/{dataset_name}_{label}.npy\"\n",
    "        np.save(save_path, ap, allow_pickle=True)"
   ]
  },
  {
   "cell_type": "code",
   "execution_count": null,
   "metadata": {},
   "outputs": [],
   "source": [
    "import matplotlib.pyplot as plt\n",
    "\n",
    "plt.figure(figsize=(15, 30))\n",
    "for i, dataset_name in enumerate((pbar := tqdm(odds_datasets.datasets_names))):\n",
    "    plt.subplot(6,3,i+1)\n",
    "    for j, (label, model_config) in enumerate(model_configs.items()):\n",
    "        save_path = f\"results/fit_only/{dataset_name}_{label}.npy\"\n",
    "        ap = np.load(save_path, allow_pickle=True)\n",
    "        plt.violinplot([ap], positions=[j], showmeans=True)\n",
    "    plt.xticks(range(len(model_configs)), model_configs.keys())\n",
    "    plt.title(dataset_name)\n",
    "    plt.grid()\n",
    "    plt.ylim(0, 1)\n",
    "    plt.tight_layout()\n"
   ]
  }
 ],
 "metadata": {
  "kernelspec": {
   "display_name": "base",
   "language": "python",
   "name": "python3"
  },
  "language_info": {
   "codemirror_mode": {
    "name": "ipython",
    "version": 3
   },
   "file_extension": ".py",
   "mimetype": "text/x-python",
   "name": "python",
   "nbconvert_exporter": "python",
   "pygments_lexer": "ipython3",
   "version": "3.12.2"
  }
 },
 "nbformat": 4,
 "nbformat_minor": 2
}
