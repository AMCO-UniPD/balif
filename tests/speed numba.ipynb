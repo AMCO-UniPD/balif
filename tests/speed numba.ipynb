{
 "cells": [
  {
   "cell_type": "code",
   "execution_count": null,
   "metadata": {},
   "outputs": [],
   "source": [
    "import os\n",
    "\n",
    "os.chdir(\"..\")\n",
    "import numpy as np\n",
    "import matplotlib.pyplot as plt"
   ]
  },
  {
   "cell_type": "code",
   "execution_count": null,
   "metadata": {},
   "outputs": [],
   "source": [
    "np.zeros(()).shape"
   ]
  },
  {
   "cell_type": "code",
   "execution_count": null,
   "metadata": {},
   "outputs": [],
   "source": []
  },
  {
   "cell_type": "code",
   "execution_count": null,
   "metadata": {},
   "outputs": [],
   "source": [
    "data = np.random.normal(0, 1, (10000, 2)).astype(np.float64)\n",
    "forest = IsolationForest(hyperplane_components=1)\n",
    "forest.fit(data)\n",
    "forest.score(data)\n",
    "print(\"Done\")\n",
    "%timeit forest.fit(data)\n",
    "%timeit forest.score(data)"
   ]
  },
  {
   "cell_type": "code",
   "execution_count": null,
   "metadata": {},
   "outputs": [],
   "source": [
    "tree = IsolationTree(data[:256], 1)\n",
    "print(\"Done\")\n",
    "%timeit IsolationTree(data[:256], 1)\n",
    "%timeit tree.score(data)"
   ]
  },
  {
   "cell_type": "code",
   "execution_count": null,
   "metadata": {},
   "outputs": [],
   "source": []
  },
  {
   "cell_type": "code",
   "execution_count": null,
   "metadata": {},
   "outputs": [],
   "source": [
    "(np.arange(100)%2==0).sum(dtype=np.uint16)"
   ]
  },
  {
   "cell_type": "code",
   "execution_count": null,
   "metadata": {},
   "outputs": [],
   "source": [
    "# from balif import Balif\n",
    "\n",
    "data = np.random.normal(0, 1, (1024, 2)).astype(np.float64)\n",
    "forest = IsolationForest(hyperplane_components=1)\n",
    "# balif = Balif(hyperplane_components=1)\n",
    "\n",
    "\n",
    "def heatmap(model):\n",
    "    model.fit(data)\n",
    "    X, Y = np.meshgrid(np.linspace(-5, 5, 100), np.linspace(-5, 5, 100))\n",
    "    coord = np.stack([X.flatten(), Y.flatten()]).T.astype(np.float64)\n",
    "    scores = model.score(coord)\n",
    "    plt.figure(figsize=(12, 6))\n",
    "    plt.subplot(122)\n",
    "    plt.imshow(scores.reshape(100, 100), extent=(-5, 5, 5, -5), cmap=\"YlOrRd\")\n",
    "    plt.colorbar()\n",
    "    plt.subplot(121)\n",
    "    plt.scatter(data[:, 0], data[:, 1], marker=\"o\", c=\"grey\", s=10)\n",
    "    plt.xlim(-5, 5)\n",
    "    plt.ylim(-5, 5)\n",
    "    plt.grid()\n",
    "    plt.show()\n",
    "\n",
    "\n",
    "heatmap(forest)\n",
    "# heatmap(balif)"
   ]
  },
  {
   "cell_type": "markdown",
   "metadata": {},
   "source": [
    "# Time"
   ]
  },
  {
   "cell_type": "code",
   "execution_count": null,
   "metadata": {},
   "outputs": [],
   "source": [
    "data_dim = 2\n",
    "data = np.random.normal(0, 1, (10000, data_dim)).astype(np.float64)"
   ]
  },
  {
   "cell_type": "code",
   "execution_count": null,
   "metadata": {},
   "outputs": [],
   "source": [
    "# forest.fit(data)\n",
    "# balif = balif.fit(data, key=rng_fit)\n",
    "# scores = forest.score(data)\n",
    "# scores = balif.score(data, key=rng_score)\n",
    "\n",
    "# print(\"\\nIForest (numba)\")\n",
    "# print(\"fit time:\")\n",
    "# %timeit forest.fit(data)\n",
    "# print(\"score time:\")\n",
    "# %timeit forest.score(data)"
   ]
  },
  {
   "cell_type": "code",
   "execution_count": null,
   "metadata": {},
   "outputs": [],
   "source": [
    "# print(\"\\nBalif (jax)\")\n",
    "# print(\"fit time:\")\n",
    "# %timeit balif.fit(data, key=rng_fit).beliefs.alpha.block_until_ready()\n",
    "# print(\"score time:\")\n",
    "# %timeit balif.score(data, key=rng_score).block_until_ready()\n",
    "# print(\"update time:\")\n",
    "# %timeit balif.register(data[0], key=rng_score, is_anomaly=False).beliefs.alpha.block_until_ready()\n",
    "# print(\"interest time:\")\n",
    "# %timeit balif.interest(data, key=rng_score).block_until_ready()"
   ]
  },
  {
   "cell_type": "code",
   "execution_count": null,
   "metadata": {},
   "outputs": [],
   "source": [
    "from sklearn.ensemble import IsolationForest\n",
    "model = IsolationForest(n_estimators=128)\n",
    "model.fit(data)\n",
    "print(\"\\nIForest (sklearn)\")\n",
    "print(\"fit time:\")\n",
    "%timeit model.fit(data)\n",
    "print(\"score time:\")\n",
    "%timeit model.score_samples(data)"
   ]
  }
 ],
 "metadata": {
  "kernelspec": {
   "display_name": "base",
   "language": "python",
   "name": "python3"
  },
  "language_info": {
   "codemirror_mode": {
    "name": "ipython",
    "version": 3
   },
   "file_extension": ".py",
   "mimetype": "text/x-python",
   "name": "python",
   "nbconvert_exporter": "python",
   "pygments_lexer": "ipython3",
   "version": "3.12.2"
  }
 },
 "nbformat": 4,
 "nbformat_minor": 2
}
