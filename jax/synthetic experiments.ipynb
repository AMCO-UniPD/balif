{
 "cells": [
  {
   "cell_type": "code",
   "execution_count": null,
   "metadata": {},
   "outputs": [],
   "source": [
    "import os\n",
    "os.environ[\"XLA_PYTHON_CLIENT_MEM_FRACTION\"]=\".1\"\n",
    "os.environ[\"CUDA_VISIBLE_DEVICES\"]=\"2\"\n",
    "import jax\n",
    "import jax.numpy as jnp\n",
    "import matplotlib.pyplot as plt\n",
    "from balif import Balif\n",
    "from isolation_forest import ExtendedIsolationForest"
   ]
  },
  {
   "cell_type": "code",
   "execution_count": null,
   "metadata": {},
   "outputs": [],
   "source": [
    "def plot_data(\n",
    "    data_inlier,\n",
    "    data_anomaly,\n",
    "    x_lims: tuple[int, int] = (-5, 5),\n",
    "    y_lims: tuple[int, int] = (-5, 5),\n",
    "    \n",
    "):\n",
    "    plt.figure(figsize=(5, 5), dpi=80)\n",
    "    plt.scatter(data_inlier[:, 0], data_inlier[:, 1], marker=\"o\", c=\"grey\", s=10, label=\"inlier\")\n",
    "    plt.scatter(\n",
    "        data_anomaly[:, 0], data_anomaly[:, 1], marker=\"o\", c=\"darksalmon\", s=10, label=\"anomaly\"\n",
    "    )\n",
    "    plt.legend()\n",
    "    plt.xlim(*x_lims)\n",
    "    plt.ylim(*y_lims)\n",
    "    plt.grid()\n",
    "\n",
    "def plot_heatmap(\n",
    "    model,\n",
    "    queried = None,\n",
    "    vmin: float = 0.35,\n",
    "    vmax: float = 0.65,\n",
    "    x_lims: tuple[int, int] = (-5, 5),\n",
    "    y_lims: tuple[int, int] = (-5, 5),\n",
    "):\n",
    "    X, Y = jnp.meshgrid(jnp.linspace(*x_lims, 100), jnp.linspace(*y_lims, 100))\n",
    "    coord = jnp.stack([X.flatten(), Y.flatten()]).T\n",
    "    scores = model.score_samples(coord)\n",
    "\n",
    "    plt.figure(figsize=(6, 5), dpi=80)\n",
    "    plt.contourf(X, Y, scores.reshape(100, 100), levels=8, cmap=\"YlOrRd\", vmin=vmin, vmax=vmax)\n",
    "    plt.colorbar()\n",
    "    if queried is not None:\n",
    "        plt.scatter(queried[:, 0], queried[:, 1], facecolors=\"none\", edgecolors=\"black\", s=20)\n",
    "    plt.xticks([])\n",
    "    plt.yticks([])\n",
    "    "
   ]
  },
  {
   "cell_type": "markdown",
   "metadata": {},
   "source": [
    "Double Blob"
   ]
  },
  {
   "cell_type": "code",
   "execution_count": null,
   "metadata": {},
   "outputs": [],
   "source": [
    "N_labels = 10\n",
    "\n",
    "rng_anom, rng_inlier, rng_forest = jax.random.split(jax.random.PRNGKey(0), 3)\n",
    "data_anomaly = 0.5*jax.random.normal(rng_inlier, (64, 2)) - 2\n",
    "data_inlier = 0.5*jax.random.normal(rng_anom, (256, 2)) + 2\n",
    "data = jnp.concatenate([data_anomaly, data_inlier], axis=0)\n",
    "is_anomaly = jnp.concatenate([jnp.ones(len(data_anomaly)), jnp.zeros(len(data_inlier))]).astype(bool)\n",
    "\n",
    "plot_data(data_inlier, data_anomaly)\n",
    "plt.savefig(f\"figures/blobs_dataset.pdf\", bbox_inches=\"tight\")"
   ]
  },
  {
   "cell_type": "code",
   "execution_count": null,
   "metadata": {},
   "outputs": [],
   "source": [
    "for hyp_comp, model_name in enumerate([\"IF\", \"EIF\"], start=1):\n",
    "    forest = Balif.fit(rng_forest, data, hyperplane_components = hyp_comp, max_samples = 64)\n",
    "    plot_heatmap(forest)\n",
    "    plt.savefig(f\"figures/blobs_{model_name}_0_queries.pdf\", bbox_inches=\"tight\")\n",
    "\n",
    "    queriable = jnp.ones(len(data)).astype(bool)\n",
    "    for i in range(N_labels):\n",
    "        interests = forest.interest_for(data)\n",
    "        query_idx = jnp.where(queriable, interests, 0.0).argmax()\n",
    "        forest = forest.register(data[query_idx], is_anomaly[query_idx])\n",
    "        queriable = queriable.at[query_idx].set(False)\n",
    "        plot_heatmap(forest, queried=data[~queriable])\n",
    "        plt.savefig(f\"figures/blobs_{model_name}_{i+1}_queries.pdf\", bbox_inches=\"tight\")"
   ]
  },
  {
   "cell_type": "markdown",
   "metadata": {},
   "source": [
    "Wave"
   ]
  },
  {
   "cell_type": "code",
   "execution_count": null,
   "metadata": {},
   "outputs": [],
   "source": [
    "N_labels = 10\n",
    "\n",
    "rng_datax, rng_datay, rng_forest = jax.random.split(jax.random.PRNGKey(42), 3)\n",
    "datax = jax.random.normal(rng_datax, (512,))*jnp.pi/2\n",
    "datay = 2*jnp.sin(3*datax) + 0.3*jax.random.normal(rng_datay, (512,))\n",
    "data = jnp.stack([datax, datay], axis=1)\n",
    "is_anomaly = jnp.pi/2 < data[:, 0]#(jnp.pi/8 < data[:, 0]) & (data[:, 0] < jnp.pi*3/8)\n",
    "data_anomaly = data[is_anomaly]\n",
    "data_inlier = data[~is_anomaly]\n",
    "data = jnp.concatenate([data_anomaly, data_inlier], axis=0)\n",
    "is_anomaly = jnp.concatenate([jnp.ones(len(data_anomaly)), jnp.zeros(len(data_inlier))]).astype(bool)\n",
    "plot_data(data_inlier, data_anomaly)\n",
    "plt.savefig(f\"figures/wave_dataset.pdf\", bbox_inches=\"tight\")\n",
    "\n",
    "\n",
    "for hyp_comp, model_name in enumerate([\"IF\", \"EIF\"], start=1):\n",
    "    forest = Balif.fit(rng_forest, data, hyperplane_components = hyp_comp, max_samples = 64)\n",
    "    plot_heatmap(forest)\n",
    "    plt.savefig(f\"figures/wave_{model_name}_0_queries.pdf\", bbox_inches=\"tight\")\n",
    "\n",
    "    queriable = jnp.ones(len(data)).astype(bool)\n",
    "    for i in range(N_labels):\n",
    "        interests = forest.interest_for(data)\n",
    "        query_idx = jnp.where(queriable, interests, 0.0).argmax()\n",
    "        forest = forest.register(data[query_idx], is_anomaly[query_idx])\n",
    "        queriable = queriable.at[query_idx].set(False)\n",
    "        plot_heatmap(forest, queried=data[~queriable])\n",
    "        plt.savefig(f\"figures/wave_{model_name}_{i+1}_queries.pdf\", bbox_inches=\"tight\")"
   ]
  }
 ],
 "metadata": {
  "kernelspec": {
   "display_name": "base",
   "language": "python",
   "name": "python3"
  },
  "language_info": {
   "codemirror_mode": {
    "name": "ipython",
    "version": 3
   },
   "file_extension": ".py",
   "mimetype": "text/x-python",
   "name": "python",
   "nbconvert_exporter": "python",
   "pygments_lexer": "ipython3",
   "version": "3.10.13"
  }
 },
 "nbformat": 4,
 "nbformat_minor": 2
}
