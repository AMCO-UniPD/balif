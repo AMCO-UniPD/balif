{
 "cells": [
  {
   "cell_type": "code",
   "execution_count": null,
   "metadata": {},
   "outputs": [],
   "source": [
    "import os\n",
    "os.environ[\"CUDA_VISIBLE_DEVICES\"]=\"2\"\n",
    "import jax\n",
    "import jax.numpy as jnp\n",
    "import matplotlib.pyplot as plt\n",
    "from isolation_tree import IsolationTree"
   ]
  },
  {
   "cell_type": "code",
   "execution_count": null,
   "metadata": {},
   "outputs": [],
   "source": [
    "n_components = 2\n",
    "rng = jax.random.PRNGKey(42)\n",
    "data = jax.random.normal(rng, (32, 2))\n",
    "tree = IsolationTree.fit(rng, data, n_components)\n",
    "\n",
    "X, Y = jnp.meshgrid(jnp.linspace(-5, 5, 1000), jnp.linspace(-5, 5, 1000))\n",
    "coord = jnp.stack([X.flatten(), Y.flatten()]).T\n",
    "data_paths = jax.vmap(tree.path)(data)\n",
    "region_paths = jax.vmap(tree.path)(coord)\n",
    "\n",
    "for depth, (data_path_ids, region_paths_ids) in enumerate(\n",
    "    zip(data_paths[:, 1:].T, region_paths[:, 1:].T)\n",
    "):\n",
    "    print(f\"data reached node {data_path_ids}\")\n",
    "    plt.figure(figsize=(6, 6))\n",
    "    # scatter data color coded by region\n",
    "    plt.scatter(\n",
    "        data[:, 0], data[:, 1],s=200, c=data_path_ids,cmap=\"tab20\", edgecolors=\"k\",\n",
    "        vmin=region_paths_ids.min(), vmax=region_paths_ids.min() + 19,\n",
    "    )\n",
    "    plt.scatter(data[:, 0], data[:, 1], marker=\"x\", c=\"k\", s=10)\n",
    "    # imshow node regions\n",
    "    plt.imshow(\n",
    "        region_paths_ids.reshape(1000, 1000), cmap=\"tab20\", vmin=region_paths_ids.min(),\n",
    "        vmax=region_paths_ids.min() + 19, extent=(-5, 5, 5, -5),\n",
    "    )\n",
    "    plt.colorbar()\n",
    "    plt.show()"
   ]
  }
 ],
 "metadata": {
  "kernelspec": {
   "display_name": "base",
   "language": "python",
   "name": "python3"
  },
  "language_info": {
   "codemirror_mode": {
    "name": "ipython",
    "version": 3
   },
   "file_extension": ".py",
   "mimetype": "text/x-python",
   "name": "python",
   "nbconvert_exporter": "python",
   "pygments_lexer": "ipython3",
   "version": "3.10.13"
  }
 },
 "nbformat": 4,
 "nbformat_minor": 2
}
