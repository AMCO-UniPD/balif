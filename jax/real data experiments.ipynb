{
 "cells": [
  {
   "cell_type": "code",
   "execution_count": null,
   "metadata": {},
   "outputs": [],
   "source": [
    "import os\n",
    "os.environ[\"CUDA_VISIBLE_DEVICES\"] = \"2\"\n",
    "from tqdm.auto import tqdm\n",
    "import jax\n",
    "import jax.numpy as jnp\n",
    "import numpy as np\n",
    "import matplotlib.pyplot as plt\n",
    "import odds_datasets\n",
    "\n",
    "from balif import Balif\n",
    "from sklearn.metrics import average_precision_score"
   ]
  },
  {
   "cell_type": "code",
   "execution_count": null,
   "metadata": {},
   "outputs": [],
   "source": [
    "def run_sim(rng, train_data, train_labels, test_data, hyperplane_components):\n",
    "    def scan_body(carry, x):\n",
    "        model, queriable = carry\n",
    "\n",
    "        scores = model.score_samples(test_data)\n",
    "\n",
    "        interests = model.interest_for(train_data)\n",
    "        query_idx = jnp.where(queriable, interests, 0.0).argmax()\n",
    "        queriable = queriable.at[query_idx].set(False)\n",
    "\n",
    "        model = model.register(train_data[query_idx], train_labels[query_idx])\n",
    "\n",
    "        return (model, queriable), scores\n",
    "\n",
    "    iterations = train_data.shape[0]//10\n",
    "    model = Balif.fit(rng, train_data, hyperplane_components=hyperplane_components)\n",
    "    queriable = jnp.ones(train_data.shape[0], dtype=bool)\n",
    "\n",
    "    _, scores = jax.lax.scan(scan_body, (model, queriable), None, length=iterations+1)\n",
    "    return scores\n",
    "\n",
    "jitted_vectorized_run_sim = jax.jit(\n",
    "    jax.vmap(run_sim, in_axes=(0, None, None, None, None)),\n",
    "    static_argnames=(\"hyperplane_components\",),\n",
    ")"
   ]
  },
  {
   "cell_type": "code",
   "execution_count": null,
   "metadata": {},
   "outputs": [],
   "source": [
    "seed = 42\n",
    "n_sims = 128\n",
    "rng = jax.random.PRNGKey(seed)\n",
    "rng_balif, rng_ebalif = jax.random.split(rng)\n",
    "rng_balif = jax.random.split(rng_balif, n_sims)\n",
    "rng_ebalif = jax.random.split(rng_ebalif, n_sims)"
   ]
  },
  {
   "cell_type": "code",
   "execution_count": null,
   "metadata": {},
   "outputs": [],
   "source": [
    "for dataset_name in tqdm(sorted(odds_datasets.datasets_names)):\n",
    "    if dataset_name in [\"cover\"]:  # cover is so large it causes OOM\n",
    "        continue\n",
    "    data, labels = odds_datasets.load(dataset_name)\n",
    "    print(data.shape)\n",
    "    # train_data, test_data, train_labels, test_labels = odds_datasets.load_as_train_test(\n",
    "    #     dataset_name, test_size=0.5, random_state=seed\n",
    "    # )\n",
    "    train_data = test_data = data\n",
    "    train_labels = test_labels = labels\n",
    "\n",
    "    hyperplane_components = 1\n",
    "    scores = jitted_vectorized_run_sim(\n",
    "        rng_balif, train_data, train_labels, test_data, hyperplane_components\n",
    "    )\n",
    "    ap = jnp.array(\n",
    "        [[average_precision_score(test_labels, s) for s in run_scores] for run_scores in scores]\n",
    "    )\n",
    "    ap_mean, ap_std = ap.mean(axis=0), ap.std(axis=0)\n",
    "    jnp.save(f\"results/{dataset_name}_balif_perc.npy\", ap, allow_pickle=True)\n",
    "\n",
    "    hyperplane_components = None\n",
    "    scores = jitted_vectorized_run_sim(\n",
    "        rng_ebalif, train_data, train_labels, test_data, hyperplane_components\n",
    "    )\n",
    "    ap = jnp.array(\n",
    "        [[average_precision_score(test_labels, s) for s in run_scores] for run_scores in scores]\n",
    "    )\n",
    "    jnp.save(f\"results/{dataset_name}_ebalif_perc.npy\", ap, allow_pickle=True)"
   ]
  }
 ],
 "metadata": {
  "kernelspec": {
   "display_name": "base",
   "language": "python",
   "name": "python3"
  },
  "language_info": {
   "codemirror_mode": {
    "name": "ipython",
    "version": 3
   },
   "file_extension": ".py",
   "mimetype": "text/x-python",
   "name": "python",
   "nbconvert_exporter": "python",
   "pygments_lexer": "ipython3",
   "version": "3.10.13"
  }
 },
 "nbformat": 4,
 "nbformat_minor": 2
}
