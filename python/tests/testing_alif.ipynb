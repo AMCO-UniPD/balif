{
 "cells": [
  {
   "cell_type": "code",
   "execution_count": null,
   "metadata": {},
   "outputs": [],
   "source": [
    "import os, sys\n",
    "parent_dir = os.path.abspath(\"..\")\n",
    "if parent_dir not in sys.path:\n",
    "    sys.path.append(parent_dir)"
   ]
  },
  {
   "cell_type": "code",
   "execution_count": null,
   "metadata": {},
   "outputs": [],
   "source": [
    "import experiments.datasets as datasets\n",
    "from models.alif import Alif\n",
    "from experiments.simulations import simulate_run\n",
    "\n",
    "data, labels = datasets.load()\n",
    "alif = Alif(hyperplane_components=2)\n",
    "simulate_run(\n",
    "    model=alif, n_iter=20, data_train=data, labels_train=labels, show_heatmap_evol=True\n",
    ");"
   ]
  },
  {
   "cell_type": "code",
   "execution_count": null,
   "metadata": {},
   "outputs": [],
   "source": [
    "import matplotlib.pyplot as plt\n",
    "import numpy as np\n",
    "from tqdm.notebook import tqdm\n",
    "\n",
    "import experiments.datasets as datasets\n",
    "from models.alif import Alif\n",
    "\n",
    "from sklearn.metrics import average_precision_score\n",
    "from sklearn.metrics import precision_recall_curve\n",
    "\n",
    "for dataset_name in tqdm(datasets.small_datasets_names, desc=\"Datasets\"):\n",
    "    data, labels = datasets.load(dataset_name)\n",
    "    alif = Alif()\n",
    "    scores = alif.fit_predict(data)\n",
    "\n",
    "    precision, recall, _ = precision_recall_curve(labels, scores)\n",
    "    average_precision = average_precision_score(labels, scores)\n",
    "\n",
    "    plt.figure()\n",
    "    plt.plot(recall, precision, label=f\"start\")\n",
    "    title = f\"Precision-Recall curve for {dataset_name} (AP={average_precision:.2f}->\"\n",
    "\n",
    "    for iter in range(1, 3):\n",
    "        # sample 10% of the outliers and 10% of the inliers\n",
    "        outlier_data = data[labels == 1]\n",
    "        outlier_data = outlier_data[\n",
    "            np.random.choice(\n",
    "                outlier_data.shape[0], max((int(outlier_data.shape[0] * 1e-1),1)), replace=False\n",
    "            )\n",
    "        ]\n",
    "        inlier_data = data[labels == 0]\n",
    "        inlier_data = inlier_data[\n",
    "            np.random.choice(\n",
    "                inlier_data.shape[0], max((int(inlier_data.shape[0] * 1e-1),1)), replace=False\n",
    "            )\n",
    "        ]\n",
    "        alif.update(inlier_data=inlier_data, outlier_data=outlier_data)\n",
    "        scores = alif.predict(data)\n",
    "        \n",
    "        precision, recall, _ = precision_recall_curve(labels, scores)\n",
    "        average_precision = average_precision_score(labels, scores)\n",
    "        plt.plot(recall, precision, label=f\"{iter*10}% of labels\")\n",
    "\n",
    "    title += f\"{average_precision:.2f})\"\n",
    "    plt.title(title)\n",
    "    plt.xlim([0.0, 1.05])\n",
    "    plt.ylim([0.0, 1.05])\n",
    "    plt.xlabel(\"Recall\")\n",
    "    plt.ylabel(\"Precision\")\n",
    "    plt.legend()\n",
    "    plt.show()\n"
   ]
  }
 ],
 "metadata": {
  "kernelspec": {
   "display_name": "base",
   "language": "python",
   "name": "python3"
  },
  "language_info": {
   "codemirror_mode": {
    "name": "ipython",
    "version": 3
   },
   "file_extension": ".py",
   "mimetype": "text/x-python",
   "name": "python",
   "nbconvert_exporter": "python",
   "pygments_lexer": "ipython3",
   "version": "3.11.5"
  },
  "orig_nbformat": 4
 },
 "nbformat": 4,
 "nbformat_minor": 2
}
