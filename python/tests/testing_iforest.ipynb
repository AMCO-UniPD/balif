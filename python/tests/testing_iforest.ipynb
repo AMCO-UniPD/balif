{
 "cells": [
  {
   "cell_type": "code",
   "execution_count": null,
   "metadata": {},
   "outputs": [],
   "source": [
    "import os, sys\n",
    "parent_dir = os.path.abspath(\"..\")\n",
    "if parent_dir not in sys.path:\n",
    "    sys.path.append(parent_dir)"
   ]
  },
  {
   "cell_type": "code",
   "execution_count": null,
   "metadata": {},
   "outputs": [],
   "source": [
    "import matplotlib.pyplot as plt\n",
    "from tqdm.notebook import tqdm\n",
    "\n",
    "import experiments.datasets as datasets\n",
    "from models.isolationforest import IsolationForest\n",
    "\n",
    "from sklearn.metrics import average_precision_score\n",
    "from sklearn.metrics import precision_recall_curve\n",
    "\n",
    "for dataset_name in tqdm(datasets.small_datasets_names, desc=\"Datasets\"):\n",
    "    data, labels = datasets.load(dataset_name)\n",
    "    iforest = IsolationForest(parallel_jobs=16, n_trees=128)\n",
    "    scores = iforest.fit_predict(data)\n",
    "    \n",
    "    precision, recall, _ = precision_recall_curve(labels, scores)\n",
    "    average_precision = average_precision_score(labels, scores)\n",
    "    \n",
    "    plt.figure(figsize=(2, 2))\n",
    "    plt.plot(recall, precision)\n",
    "    plt.title(f\"Precision-Recall curve for {dataset_name} (AP={average_precision:.2f})\")\n",
    "    plt.xlim([0.0, 1.0])\n",
    "    plt.ylim([0.0, 1.0])\n",
    "    plt.xlabel(\"Recall\")\n",
    "    plt.ylabel(\"Precision\")\n",
    "    plt.show()"
   ]
  },
  {
   "cell_type": "code",
   "execution_count": null,
   "metadata": {},
   "outputs": [],
   "source": []
  }
 ],
 "metadata": {
  "kernelspec": {
   "display_name": "base",
   "language": "python",
   "name": "python3"
  },
  "language_info": {
   "codemirror_mode": {
    "name": "ipython",
    "version": 3
   },
   "file_extension": ".py",
   "mimetype": "text/x-python",
   "name": "python",
   "nbconvert_exporter": "python",
   "pygments_lexer": "ipython3",
   "version": "3.10.12"
  },
  "orig_nbformat": 4
 },
 "nbformat": 4,
 "nbformat_minor": 2
}
