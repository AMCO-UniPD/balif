{
 "cells": [
  {
   "cell_type": "code",
   "execution_count": null,
   "metadata": {},
   "outputs": [],
   "source": [
    "import os, sys\n",
    "parent_dir = os.path.abspath(\"..\")\n",
    "if parent_dir not in sys.path:\n",
    "    sys.path.append(parent_dir)"
   ]
  },
  {
   "cell_type": "code",
   "execution_count": null,
   "metadata": {},
   "outputs": [],
   "source": [
    "import experiments.datasets as datasets\n",
    "\n",
    "print(f\"small datasets:\\n\")\n",
    "for name in datasets.small_datasets_names:\n",
    "    print(f\"{name}\")\n",
    "    \n",
    "print(f\"\\nlarge datasets:\\n\")\n",
    "for name in datasets.large_datasets_names:\n",
    "    print(f\"{name}\")\n",
    "    \n",
    "assert datasets.datasets_names == datasets.small_datasets_names + datasets.large_datasets_names"
   ]
  },
  {
   "cell_type": "code",
   "execution_count": null,
   "metadata": {},
   "outputs": [],
   "source": [
    "for dataset_name in datasets.datasets_names:\n",
    "    print(dataset_name)\n",
    "    data, labels = datasets.load(dataset_name)\n",
    "    assert data.shape[0] == labels.shape[0]\n",
    "    print(f\"{data.shape=}, {data.dtype=}\")"
   ]
  }
 ],
 "metadata": {
  "kernelspec": {
   "display_name": "base",
   "language": "python",
   "name": "python3"
  },
  "language_info": {
   "codemirror_mode": {
    "name": "ipython",
    "version": 3
   },
   "file_extension": ".py",
   "mimetype": "text/x-python",
   "name": "python",
   "nbconvert_exporter": "python",
   "pygments_lexer": "ipython3",
   "version": "3.9.13"
  },
  "orig_nbformat": 4
 },
 "nbformat": 4,
 "nbformat_minor": 2
}
