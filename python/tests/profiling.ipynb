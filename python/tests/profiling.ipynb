{
 "cells": [
  {
   "cell_type": "code",
   "execution_count": null,
   "metadata": {},
   "outputs": [],
   "source": [
    "import os, sys\n",
    "parent_dir = os.path.abspath(\"..\")\n",
    "if parent_dir not in sys.path:\n",
    "    sys.path.append(parent_dir)"
   ]
  },
  {
   "cell_type": "code",
   "execution_count": null,
   "metadata": {},
   "outputs": [],
   "source": [
    "from experiments import datasets\n",
    "from models.isolationforest import IsolationForest\n",
    "\n",
    "data, labels = datasets.load()\n",
    "iforest = IsolationForest()\n",
    "\n",
    "iforest.fit(data)\n",
    "%timeit iforest.fit(data)\n",
    "\n",
    "iforest.predict(data)\n",
    "%timeit iforest.predict(data)"
   ]
  },
  {
   "cell_type": "markdown",
   "metadata": {},
   "source": [
    "IF"
   ]
  },
  {
   "cell_type": "code",
   "execution_count": null,
   "metadata": {},
   "outputs": [],
   "source": [
    "import snakeviz\n",
    "%load_ext snakeviz\n",
    "\n",
    "from experiments import datasets\n",
    "from models.isolationforest import IsolationForest\n",
    "\n",
    "data, labels = datasets.load()\n",
    "iforest = IsolationForest()\n",
    "\n",
    "iforest.fit(data)\n",
    "%snakeviz -t iforest.fit(data)\n",
    "\n",
    "iforest.predict(data)\n",
    "%snakeviz -t iforest.predict(data)"
   ]
  },
  {
   "cell_type": "markdown",
   "metadata": {},
   "source": [
    "ALIF on simulation"
   ]
  },
  {
   "cell_type": "code",
   "execution_count": null,
   "metadata": {},
   "outputs": [],
   "source": [
    "import snakeviz\n",
    "%load_ext snakeviz\n",
    "\n",
    "import experiments.datasets as datasets\n",
    "from models.alif import Alif\n",
    "from experiments.simulations import multi_run_simulation\n",
    "\n",
    "dataset = \"cardio\"\n",
    "data, labels = datasets.load(dataset)\n",
    "\n",
    "sim_res = multi_run_simulation(Alif(), 1, 2, dataset)\n",
    "\n",
    "%snakeviz -t sim_res = multi_run_simulation(Alif(), 1, 25, dataset)"
   ]
  }
 ],
 "metadata": {
  "kernelspec": {
   "display_name": "base",
   "language": "python",
   "name": "python3"
  },
  "language_info": {
   "codemirror_mode": {
    "name": "ipython",
    "version": 3
   },
   "file_extension": ".py",
   "mimetype": "text/x-python",
   "name": "python",
   "nbconvert_exporter": "python",
   "pygments_lexer": "ipython3",
   "version": "3.10.13"
  },
  "orig_nbformat": 4
 },
 "nbformat": 4,
 "nbformat_minor": 2
}
