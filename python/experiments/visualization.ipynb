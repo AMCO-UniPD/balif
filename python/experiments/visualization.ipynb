{
 "cells": [
  {
   "cell_type": "code",
   "execution_count": null,
   "metadata": {},
   "outputs": [],
   "source": [
    "import os\n",
    "import sys\n",
    "parent_dir = os.path.abspath(\"..\")\n",
    "if parent_dir not in sys.path:\n",
    "    sys.path.append(parent_dir)\n",
    "    \n",
    "from matplotlib import pyplot as plt\n",
    "import warnings\n",
    "warnings.filterwarnings(\"ignore\")\n",
    "\n",
    "from experiments import datasets"
   ]
  },
  {
   "cell_type": "markdown",
   "metadata": {},
   "source": [
    "AP"
   ]
  },
  {
   "cell_type": "code",
   "execution_count": null,
   "metadata": {},
   "outputs": [],
   "source": [
    "from experiments.plotting import plot_ap_evol\n",
    "\n",
    "for datasetname in datasets.datasets_names:    \n",
    "    plt.figure(figsize=(4, 4), dpi=100)\n",
    "    plt.title(datasetname)\n",
    "    plot_ap_evol(datasetname, \"ALIF\")\n",
    "    plt.savefig(f\"figures/AP_evolution_{datasetname}.pdf\", bbox_inches='tight')\n",
    "    plt.legend()"
   ]
  },
  {
   "cell_type": "markdown",
   "metadata": {},
   "source": [
    "Precision - Recall"
   ]
  },
  {
   "cell_type": "code",
   "execution_count": null,
   "metadata": {},
   "outputs": [],
   "source": [
    "from experiments.plotting import plot_prec_recall_evolution\n",
    "\n",
    "for datasetname in datasets.datasets_names:   \n",
    "    if datasetname == \"squarethoroid\":\n",
    "        continue \n",
    "    plt.figure(figsize=(4, 4), dpi=100)\n",
    "    plt.title(datasetname)\n",
    "    plot_prec_recall_evolution(datasetname, \"ALIF\", run=3)\n",
    "    plt.legend()\n",
    "    plt.savefig(f\"figures/Prec-Recall_evolution_{datasetname}.pdf\", bbox_inches='tight')\n",
    "    plt.show()"
   ]
  },
  {
   "cell_type": "markdown",
   "metadata": {},
   "source": [
    "F1"
   ]
  },
  {
   "cell_type": "code",
   "execution_count": null,
   "metadata": {},
   "outputs": [],
   "source": [
    "from experiments.plotting import plot_fbeta_evol\n",
    "\n",
    "for datasetname in datasets.datasets_names:\n",
    "    if datasetname == \"squarethoroid\":\n",
    "        continue\n",
    "    \n",
    "    plt.figure(figsize=(4, 4), dpi=100)\n",
    "    plt.title(datasetname)\n",
    "    plot_fbeta_evol(datasetname, \"ALIF\")\n",
    "    plt.savefig(f\"figures/F1_evolution_{datasetname}.pdf\", bbox_inches='tight')\n",
    "    plt.legend()"
   ]
  }
 ],
 "metadata": {
  "kernelspec": {
   "display_name": "base",
   "language": "python",
   "name": "python3"
  },
  "language_info": {
   "codemirror_mode": {
    "name": "ipython",
    "version": 3
   },
   "file_extension": ".py",
   "mimetype": "text/x-python",
   "name": "python",
   "nbconvert_exporter": "python",
   "pygments_lexer": "ipython3",
   "version": "3.10.12"
  },
  "orig_nbformat": 4
 },
 "nbformat": 4,
 "nbformat_minor": 2
}
