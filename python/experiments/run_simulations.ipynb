{
 "cells": [
  {
   "cell_type": "code",
   "execution_count": null,
   "metadata": {},
   "outputs": [],
   "source": [
    "import os\n",
    "import sys\n",
    "parent_dir = os.path.abspath(\"..\")\n",
    "if parent_dir not in sys.path:\n",
    "    sys.path.append(parent_dir)"
   ]
  },
  {
   "cell_type": "code",
   "execution_count": null,
   "metadata": {},
   "outputs": [],
   "source": [
    "import pickle\n",
    "import zlib\n",
    "from tqdm.notebook import tqdm\n",
    "\n",
    "import experiments.datasets as datasets\n",
    "from experiments.simulations import multi_run_simulation\n",
    "from models.alif import Alif\n",
    "\n",
    "for dataset_name in (pbar:=tqdm(datasets.datasets_names)):\n",
    "    pbar.set_description(dataset_name)\n",
    "    sim_res = multi_run_simulation(\n",
    "        model=Alif(),\n",
    "        n_runs=24 if dataset_name == \"cover\" else 48,\n",
    "        n_iter=25,\n",
    "        dataset_name=dataset_name,\n",
    "        parallel_jobs=8\n",
    "    )\n",
    "    \n",
    "    with open(f\"sim_results/ALIF/{dataset_name}.gz\", \"wb\") as fp:\n",
    "        fp.write(zlib.compress(pickle.dumps(sim_res, pickle.HIGHEST_PROTOCOL), 9))"
   ]
  }
 ],
 "metadata": {
  "kernelspec": {
   "display_name": "base",
   "language": "python",
   "name": "python3"
  },
  "language_info": {
   "codemirror_mode": {
    "name": "ipython",
    "version": 3
   },
   "file_extension": ".py",
   "mimetype": "text/x-python",
   "name": "python",
   "nbconvert_exporter": "python",
   "pygments_lexer": "ipython3",
   "version": "3.10.12"
  },
  "orig_nbformat": 4
 },
 "nbformat": 4,
 "nbformat_minor": 2
}
