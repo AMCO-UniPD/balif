{
 "cells": [
  {
   "cell_type": "markdown",
   "metadata": {},
   "source": [
    "## Load"
   ]
  },
  {
   "cell_type": "code",
   "execution_count": 1,
   "metadata": {},
   "outputs": [
    {
     "ename": "ModuleNotFoundError",
     "evalue": "No module named 'pandas'",
     "output_type": "error",
     "traceback": [
      "\u001b[31m---------------------------------------------------------------------------\u001b[39m",
      "\u001b[31mModuleNotFoundError\u001b[39m                       Traceback (most recent call last)",
      "\u001b[36mCell\u001b[39m\u001b[36m \u001b[39m\u001b[32mIn[1]\u001b[39m\u001b[32m, line 3\u001b[39m\n\u001b[32m      1\u001b[39m \u001b[38;5;28;01mfrom\u001b[39;00m\u001b[38;5;250m \u001b[39m\u001b[34;01mscipy\u001b[39;00m\u001b[34;01m.\u001b[39;00m\u001b[34;01mio\u001b[39;00m\u001b[38;5;250m \u001b[39m\u001b[38;5;28;01mimport\u001b[39;00m loadmat\n\u001b[32m      2\u001b[39m \u001b[38;5;28;01mimport\u001b[39;00m\u001b[38;5;250m \u001b[39m\u001b[34;01mnumpy\u001b[39;00m\u001b[38;5;250m \u001b[39m\u001b[38;5;28;01mas\u001b[39;00m\u001b[38;5;250m \u001b[39m\u001b[34;01mnp\u001b[39;00m\n\u001b[32m----> \u001b[39m\u001b[32m3\u001b[39m \u001b[38;5;28;01mimport\u001b[39;00m\u001b[38;5;250m \u001b[39m\u001b[34;01mpandas\u001b[39;00m\u001b[38;5;250m \u001b[39m\u001b[38;5;28;01mas\u001b[39;00m\u001b[38;5;250m \u001b[39m\u001b[34;01mpd\u001b[39;00m\n\u001b[32m      4\u001b[39m \u001b[38;5;28;01mimport\u001b[39;00m\u001b[38;5;250m \u001b[39m\u001b[34;01mplotly\u001b[39;00m\u001b[34;01m.\u001b[39;00m\u001b[34;01mexpress\u001b[39;00m\u001b[38;5;250m \u001b[39m\u001b[38;5;28;01mas\u001b[39;00m\u001b[38;5;250m \u001b[39m\u001b[34;01mpx\u001b[39;00m\n\u001b[32m      5\u001b[39m \u001b[38;5;28;01mimport\u001b[39;00m\u001b[38;5;250m \u001b[39m\u001b[34;01mplotly\u001b[39;00m\u001b[34;01m.\u001b[39;00m\u001b[34;01mgraph_objects\u001b[39;00m\u001b[38;5;250m \u001b[39m\u001b[38;5;28;01mas\u001b[39;00m\u001b[38;5;250m \u001b[39m\u001b[34;01mgo\u001b[39;00m\n",
      "\u001b[31mModuleNotFoundError\u001b[39m: No module named 'pandas'"
     ]
    }
   ],
   "source": [
    "from scipy.io import loadmat\n",
    "import numpy as np\n",
    "import pandas as pd\n",
    "import plotly.express as px\n",
    "import plotly.graph_objects as go\n",
    "\n",
    "\n",
    "mat = loadmat('signals.mat')\n",
    "data = {\n",
    "    key:np.array(mat[key].T, dtype=float)\n",
    "    for key in mat.keys() if not key.startswith('__')\n",
    "}\n",
    "\n",
    "assert np.allclose(data[\"ICOB\"]*(data[\"COB\"]+0.1), data[\"IOB\"])\n",
    "data.update({\"DCGM\": data[\"DCOB\"]*(data[\"COB\"]+0.1)})\n",
    "# def smooth(signal, w_size=60//5):\n",
    "#     return np.convolve(signal, np.ones(w_size)/w_size)[:len(signal)]\n",
    "# df.update(\n",
    "#     {\"DCGM\": np.apply_along_axis(smooth, 1, np.diff(df[\"CGM\"], axis=1, prepend=0))}\n",
    "# )\n",
    "\n",
    "def get_fault_progress(signal):\n",
    "    starts = np.where(np.diff(signal)<0)[0]\n",
    "    ends = np.where(np.diff(signal)>0)[0]\n",
    "    fault_progress = np.zeros_like(signal)\n",
    "    for start, end in zip(starts, ends):\n",
    "        fault_progress[start:end+(end-start)] = np.linspace(0, 2*(end-start)*5/60, 2*(end-start))\n",
    "    return fault_progress\n",
    "\n",
    "def get_fault_state(signal):\n",
    "    starts = np.where(np.diff(signal)<0)[0]\n",
    "    ends = np.where(np.diff(signal)>0)[0]\n",
    "    fault_state = np.zeros(signal.shape, dtype=int)\n",
    "    for start, end in zip(starts, ends):\n",
    "        fault_state[start:end] = 1\n",
    "        fault_state[end:end+(end-start)] = -1\n",
    "    fault_state = np.array([\"Recovery\", \"Healthy\", \"Faulty\"])[fault_state+1]\n",
    "    return fault_state\n",
    "\n",
    "fault_progress = np.apply_along_axis(get_fault_progress, 1, data[\"FaultsPump\"])\n",
    "fault_state = np.apply_along_axis(get_fault_state, 1, data[\"FaultsPump\"])\n",
    "data.update({\"FaultState\": fault_state, \"FaultProgress\": fault_progress})\n",
    "\n",
    "df_patients = [\n",
    "    pd.DataFrame(\n",
    "        {key:signal[patient_id] for key, signal in data.items()}\n",
    "    )\n",
    "    for patient_id in range(data[\"CGM\"].shape[0])\n",
    "]\n",
    "for df in df_patients:\n",
    "    df[\"Time\"] = pd.date_range(\"2000-01-01\", periods=df.shape[0], freq=\"5min\")"
   ]
  },
  {
   "cell_type": "markdown",
   "metadata": {},
   "source": [
    "# Signals\n",
    "\n",
    "Dumb Questions:\n",
    "1. IOB (and ICOB) are 0 untill 3h\n",
    "2. ICOB = IOB/(COB+eps) -> i don't remember why eps=0.1\n",
    "3. DCOB = diff(CGM)/(COB+eps) + smoothing -> how is it smoothed\n",
    "\n",
    "\n",
    "prop\n",
    "CGM/COB"
   ]
  },
  {
   "cell_type": "code",
   "execution_count": null,
   "metadata": {},
   "outputs": [],
   "source": [
    "patient_id = 27"
   ]
  },
  {
   "cell_type": "code",
   "execution_count": null,
   "metadata": {},
   "outputs": [],
   "source": [
    "px.line(\n",
    "    df_patients[patient_id], x=\"Time\", \n",
    "    y=['CGM', 'CHO', 'COB', 'DCOB', 'ICOB', 'IOB', 'insulin', 'DCGM', 'FaultsPump', 'FaultProgress'],\n",
    ").show()\n",
    "\n",
    "# plot faults divided by FaultState\n",
    "px.scatter(\n",
    "    df_patients[patient_id], x=\"Time\", y='FaultProgress',\n",
    "    color=\"FaultState\"\n",
    ").show()"
   ]
  },
  {
   "cell_type": "markdown",
   "metadata": {},
   "source": [
    "# 3d Scatters"
   ]
  },
  {
   "cell_type": "markdown",
   "metadata": {},
   "source": [
    "## Normalized"
   ]
  },
  {
   "cell_type": "code",
   "execution_count": null,
   "metadata": {},
   "outputs": [],
   "source": [
    "fig = px.scatter_3d(\n",
    "    df_patients[patient_id], x=\"CGM\", y=\"ICOB\", z=\"DCOB\",\n",
    "    color=\"FaultProgress\", color_continuous_scale=\"Hot\", \n",
    "    range_color=[\n",
    "        df_patients[patient_id][\"FaultProgress\"].min(), \n",
    "        df_patients[patient_id][\"FaultProgress\"].max()\n",
    "    ],\n",
    "    symbol=\"FaultState\", opacity=0.5, height=600, width=600,\n",
    ")\n",
    "fig.update_traces(\n",
    "    marker=dict(\n",
    "        line_width=0,\n",
    "        size=np.ones_like(df_patients[patient_id][\"FaultProgress\"])*5\n",
    "    )\n",
    ")\n",
    "fig.update_layout(\n",
    "    legend=dict(yanchor=\"top\",y=0.99,xanchor=\"left\",x=0.01)\n",
    ")\n",
    "fig.show()"
   ]
  },
  {
   "cell_type": "markdown",
   "metadata": {},
   "source": [
    "## Unormalized"
   ]
  },
  {
   "cell_type": "markdown",
   "metadata": {},
   "source": [
    "Fault = High IOB, Low COB, positive DCGM (but is not well separated)"
   ]
  },
  {
   "cell_type": "code",
   "execution_count": null,
   "metadata": {},
   "outputs": [],
   "source": [
    "fig = px.scatter_3d(\n",
    "    df_patients[patient_id], x=\"DCGM\", y=\"IOB\", z=\"COB\",\n",
    "    color=\"FaultProgress\", color_continuous_scale=\"Hot\", \n",
    "    range_color=[\n",
    "        df_patients[patient_id][\"FaultProgress\"].min(), \n",
    "        df_patients[patient_id][\"FaultProgress\"].max()\n",
    "    ],\n",
    "    symbol=\"FaultState\", opacity=0.5, height=600, width=600,\n",
    ")\n",
    "fig.update_traces(\n",
    "    marker=dict(\n",
    "        line_width=0,\n",
    "        size=np.ones_like(df_patients[patient_id][\"FaultProgress\"])*5\n",
    "    )\n",
    ")\n",
    "fig.update_layout(\n",
    "    legend=dict(yanchor=\"top\",y=0.99,xanchor=\"left\",x=0.01)\n",
    ")\n",
    "fig.show()"
   ]
  },
  {
   "cell_type": "markdown",
   "metadata": {},
   "source": [
    "my understanding of why normalization works\n",
    "\n",
    "IOB -> tries to lower CGM\n",
    "\n",
    "COB -> tries to increase CGM\n",
    "\n",
    "$\\Delta \\text{CGM} \\approx c_\\text{COB} \\text{COB} - c_\\text{IOB} \\text{IOB}$\n",
    "\n",
    "here an hyperplane separates abnormal from normal behaviour (Delta higher/lower than expected)\n",
    "\n",
    "if we normalize (divide by COB) we get \n",
    "\n",
    "$\\text{DCOB} \\approx c_\\text{COB} - c_\\text{IOB} \\text{ICOB}$\n",
    "\n",
    "here the same 3D relation is condensed into 2D, the plane is now a line"
   ]
  }
 ],
 "metadata": {
  "kernelspec": {
   "display_name": ".venv",
   "language": "python",
   "name": "python3"
  },
  "language_info": {
   "codemirror_mode": {
    "name": "ipython",
    "version": 3
   },
   "file_extension": ".py",
   "mimetype": "text/x-python",
   "name": "python",
   "nbconvert_exporter": "python",
   "pygments_lexer": "ipython3",
   "version": "3.12.0"
  }
 },
 "nbformat": 4,
 "nbformat_minor": 2
}
